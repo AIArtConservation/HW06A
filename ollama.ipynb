{
  "cells": [
    {
      "cell_type": "markdown",
      "metadata": {
        "id": "P1k3vh0yKph3"
      },
      "source": [
        "## Install / Setup"
      ]
    },
    {
      "cell_type": "markdown",
      "metadata": {
        "id": "IVYOkt_qKph4"
      },
      "source": [
        "### Windows/Mac Install:\n",
        "\n",
        "Download Ollama: https://ollama.com/download"
      ]
    },
    {
      "cell_type": "markdown",
      "metadata": {
        "id": "RanS_aBjKph5"
      },
      "source": [
        "### Windows/Mac Setup:"
      ]
    },
    {
      "cell_type": "code",
      "execution_count": null,
      "metadata": {
        "id": "WsUjft6rKph5",
        "outputId": "9bdd5463-8df2-4e36-de4b-3fe519486ddb",
        "colab": {
          "base_uri": "https://localhost:8080/"
        }
      },
      "outputs": [
        {
          "output_type": "stream",
          "name": "stdout",
          "text": [
            "/bin/bash: line 1: ollama: command not found\n"
          ]
        }
      ],
      "source": [
        "!ollama run\n",
        "#don't run with this just use linux"
      ]
    },
    {
      "cell_type": "code",
      "execution_count": null,
      "metadata": {
        "id": "2hXDtwt2Kph6",
        "outputId": "a669b22c-5f0d-4059-fb91-37f32e29e6a6",
        "colab": {
          "base_uri": "https://localhost:8080/"
        }
      },
      "outputs": [
        {
          "output_type": "stream",
          "name": "stdout",
          "text": [
            "/bin/bash: line 1: ollama: command not found\n",
            "/bin/bash: line 1: ollama: command not found\n",
            "/bin/bash: line 1: ollama: command not found\n",
            "/bin/bash: line 1: ollama: command not found\n"
          ]
        }
      ],
      "source": [
        "!ollama pull llava\n",
        "!ollama pull llama3.2:1b\n",
        "!ollama pull deepseek-r1:14b\n",
        "!ollama list\n"
      ]
    },
    {
      "cell_type": "markdown",
      "metadata": {
        "id": "SurxAiZ6Kph6"
      },
      "source": [
        "### Linux Install:\n",
        "\n",
        "`curl -fsSL https://ollama.com/install.sh | sh`"
      ]
    },
    {
      "cell_type": "code",
      "execution_count": 2,
      "metadata": {
        "id": "8n7XGkmKXTat",
        "outputId": "012ad8af-a5d4-474a-dc4b-5abc1b5fd9ee",
        "colab": {
          "base_uri": "https://localhost:8080/"
        }
      },
      "outputs": [
        {
          "output_type": "stream",
          "name": "stdout",
          "text": [
            ">>> Cleaning up old version at /usr/local/lib/ollama\n",
            ">>> Installing ollama to /usr/local\n",
            ">>> Downloading Linux amd64 bundle\n",
            "############################################################################################# 100.0%\n",
            ">>> Adding ollama user to video group...\n",
            ">>> Adding current user to ollama group...\n",
            ">>> Creating ollama systemd service...\n",
            "\u001b[1m\u001b[31mWARNING:\u001b[m systemd is not running\n",
            "\u001b[1m\u001b[31mWARNING:\u001b[m Unable to detect NVIDIA/AMD GPU. Install lspci or lshw to automatically detect and install GPU dependencies.\n",
            ">>> The Ollama API is now available at 127.0.0.1:11434.\n",
            ">>> Install complete. Run \"ollama\" from the command line.\n"
          ]
        }
      ],
      "source": [
        "!curl -fsSL https://ollama.com/install.sh | sh"
      ]
    },
    {
      "cell_type": "markdown",
      "metadata": {
        "id": "A-yBIk3qKph6"
      },
      "source": [
        "### Linux Setup"
      ]
    },
    {
      "cell_type": "code",
      "execution_count": 3,
      "metadata": {
        "id": "XhIDTQlyKph7",
        "outputId": "9148797d-bd24-4944-d72f-2709c9f948ae",
        "colab": {
          "base_uri": "https://localhost:8080/"
        }
      },
      "outputs": [
        {
          "output_type": "stream",
          "name": "stdout",
          "text": [
            "nohup: redirecting stderr to stdout\n"
          ]
        }
      ],
      "source": [
        "!nohup ollama serve > ollama.txt &"
      ]
    },
    {
      "cell_type": "code",
      "source": [
        "!ollama pull codellama\n",
        "!ollama pull falcon\n",
        "!ollama pull noahpunintended/picard:0.36b-f16"
      ],
      "metadata": {
        "id": "74qLJDSkwtkJ",
        "collapsed": true,
        "colab": {
          "base_uri": "https://localhost:8080/"
        },
        "outputId": "9b337fbb-7d40-4ce0-ef93-67552e103ba9"
      },
      "execution_count": 11,
      "outputs": [
        {
          "output_type": "stream",
          "name": "stdout",
          "text": [
            "\u001b[?2026h\u001b[?25l\u001b[1Gpulling manifest ⠋ \u001b[K\u001b[?25h\u001b[?2026l\u001b[?2026h\u001b[?25l\u001b[1Gpulling manifest ⠙ \u001b[K\u001b[?25h\u001b[?2026l\u001b[?2026h\u001b[?25l\u001b[1Gpulling manifest ⠹ \u001b[K\u001b[?25h\u001b[?2026l\u001b[?2026h\u001b[?25l\u001b[1Gpulling manifest ⠸ \u001b[K\u001b[?25h\u001b[?2026l\u001b[?2026h\u001b[?25l\u001b[1Gpulling manifest \u001b[K\n",
            "pulling 3a43f93b78ec... 100% ▕▏ 3.8 GB                         \u001b[K\n",
            "pulling 8c17c2ebb0ea... 100% ▕▏ 7.0 KB                         \u001b[K\n",
            "pulling 590d74a5569b... 100% ▕▏ 4.8 KB                         \u001b[K\n",
            "pulling 2e0493f67d0c... 100% ▕▏   59 B                         \u001b[K\n",
            "pulling 7f6a57943a88... 100% ▕▏  120 B                         \u001b[K\n",
            "pulling 316526ac7323... 100% ▕▏  529 B                         \u001b[K\n",
            "verifying sha256 digest \u001b[K\n",
            "writing manifest \u001b[K\n",
            "success \u001b[K\u001b[?25h\u001b[?2026l\n",
            "\u001b[?2026h\u001b[?25l\u001b[1Gpulling manifest ⠋ \u001b[K\u001b[?25h\u001b[?2026l\u001b[?2026h\u001b[?25l\u001b[1Gpulling manifest ⠙ \u001b[K\u001b[?25h\u001b[?2026l\u001b[?2026h\u001b[?25l\u001b[1Gpulling manifest ⠹ \u001b[K\u001b[?25h\u001b[?2026l\u001b[?2026h\u001b[?25l\u001b[1Gpulling manifest ⠼ \u001b[K\u001b[?25h\u001b[?2026l\u001b[?2026h\u001b[?25l\u001b[1Gpulling manifest ⠼ \u001b[K\u001b[?25h\u001b[?2026l\u001b[?2026h\u001b[?25l\u001b[1Gpulling manifest \u001b[K\n",
            "pulling 305c4103a989... 100% ▕▏ 4.2 GB                         \u001b[K\n",
            "pulling 4dec76bb1a47... 100% ▕▏   45 B                         \u001b[K\n",
            "pulling 0644cce03f93... 100% ▕▏   31 B                         \u001b[K\n",
            "pulling 9ce7398869ad... 100% ▕▏  382 B                         \u001b[K\n",
            "verifying sha256 digest \u001b[K\n",
            "writing manifest \u001b[K\n",
            "success \u001b[K\u001b[?25h\u001b[?2026l\n",
            "\u001b[?2026h\u001b[?25l\u001b[1Gpulling manifest ⠙ \u001b[K\u001b[?25h\u001b[?2026l\u001b[?2026h\u001b[?25l\u001b[1Gpulling manifest ⠙ \u001b[K\u001b[?25h\u001b[?2026l\u001b[?2026h\u001b[?25l\u001b[1Gpulling manifest ⠹ \u001b[K\u001b[?25h\u001b[?2026l\u001b[?2026h\u001b[?25l\u001b[1Gpulling manifest ⠸ \u001b[K\u001b[?25h\u001b[?2026l\u001b[?2026h\u001b[?25l\u001b[1Gpulling manifest ⠼ \u001b[K\u001b[?25h\u001b[?2026l\u001b[?2026h\u001b[?25l\u001b[1Gpulling manifest ⠴ \u001b[K\u001b[?25h\u001b[?2026l\u001b[?2026h\u001b[?25l\u001b[1Gpulling manifest \u001b[K\n",
            "pulling c131de136f10...   0% ▕▏    0 B/725 MB                  \u001b[K\u001b[?25h\u001b[?2026l\u001b[?2026h\u001b[?25l\u001b[A\u001b[1Gpulling manifest \u001b[K\n",
            "pulling c131de136f10...   0% ▕▏    0 B/725 MB                  \u001b[K\u001b[?25h\u001b[?2026l\u001b[?2026h\u001b[?25l\u001b[A\u001b[1Gpulling manifest \u001b[K\n",
            "pulling c131de136f10...   0% ▕▏    0 B/725 MB                  \u001b[K\u001b[?25h\u001b[?2026l\u001b[?2026h\u001b[?25l\u001b[A\u001b[1Gpulling manifest \u001b[K\n",
            "pulling c131de136f10...   0% ▕▏    0 B/725 MB                  \u001b[K\u001b[?25h\u001b[?2026l\u001b[?2026h\u001b[?25l\u001b[A\u001b[1Gpulling manifest \u001b[K\n",
            "pulling c131de136f10...   0% ▕▏ 1.5 MB/725 MB                  \u001b[K\u001b[?25h\u001b[?2026l\u001b[?2026h\u001b[?25l\u001b[A\u001b[1Gpulling manifest \u001b[K\n",
            "pulling c131de136f10...   1% ▕▏ 6.1 MB/725 MB                  \u001b[K\u001b[?25h\u001b[?2026l\u001b[?2026h\u001b[?25l\u001b[A\u001b[1Gpulling manifest \u001b[K\n",
            "pulling c131de136f10...   2% ▕▏  12 MB/725 MB                  \u001b[K\u001b[?25h\u001b[?2026l\u001b[?2026h\u001b[?25l\u001b[A\u001b[1Gpulling manifest \u001b[K\n",
            "pulling c131de136f10...   3% ▕▏  24 MB/725 MB                  \u001b[K\u001b[?25h\u001b[?2026l\u001b[?2026h\u001b[?25l\u001b[A\u001b[1Gpulling manifest \u001b[K\n",
            "pulling c131de136f10...   4% ▕▏  29 MB/725 MB                  \u001b[K\u001b[?25h\u001b[?2026l\u001b[?2026h\u001b[?25l\u001b[A\u001b[1Gpulling manifest \u001b[K\n",
            "pulling c131de136f10...   6% ▕▏  42 MB/725 MB                  \u001b[K\u001b[?25h\u001b[?2026l\u001b[?2026h\u001b[?25l\u001b[A\u001b[1Gpulling manifest \u001b[K\n",
            "pulling c131de136f10...   8% ▕▏  61 MB/725 MB   48 MB/s     13s\u001b[K\u001b[?25h\u001b[?2026l\u001b[?2026h\u001b[?25l\u001b[A\u001b[1Gpulling manifest \u001b[K\n",
            "pulling c131de136f10...  10% ▕▏  76 MB/725 MB   48 MB/s     13s\u001b[K\u001b[?25h\u001b[?2026l\u001b[?2026h\u001b[?25l\u001b[A\u001b[1Gpulling manifest \u001b[K\n",
            "pulling c131de136f10...  15% ▕▏ 109 MB/725 MB   48 MB/s     12s\u001b[K\u001b[?25h\u001b[?2026l\u001b[?2026h\u001b[?25l\u001b[A\u001b[1Gpulling manifest \u001b[K\n",
            "pulling c131de136f10...  19% ▕▏ 137 MB/725 MB   48 MB/s     12s\u001b[K\u001b[?25h\u001b[?2026l\u001b[?2026h\u001b[?25l\u001b[A\u001b[1Gpulling manifest \u001b[K\n",
            "pulling c131de136f10...  21% ▕▏ 152 MB/725 MB   48 MB/s     11s\u001b[K\u001b[?25h\u001b[?2026l\u001b[?2026h\u001b[?25l\u001b[A\u001b[1Gpulling manifest \u001b[K\n",
            "pulling c131de136f10...  24% ▕▏ 174 MB/725 MB   48 MB/s     11s\u001b[K\u001b[?25h\u001b[?2026l\u001b[?2026h\u001b[?25l\u001b[A\u001b[1Gpulling manifest \u001b[K\n",
            "pulling c131de136f10...  29% ▕▏ 210 MB/725 MB   48 MB/s     10s\u001b[K\u001b[?25h\u001b[?2026l\u001b[?2026h\u001b[?25l\u001b[A\u001b[1Gpulling manifest \u001b[K\n",
            "pulling c131de136f10...  31% ▕▏ 225 MB/725 MB   48 MB/s     10s\u001b[K\u001b[?25h\u001b[?2026l\u001b[?2026h\u001b[?25l\u001b[A\u001b[1Gpulling manifest \u001b[K\n",
            "pulling c131de136f10...  38% ▕▏ 276 MB/725 MB   48 MB/s      9s\u001b[K\u001b[?25h\u001b[?2026l\u001b[?2026h\u001b[?25l\u001b[A\u001b[1Gpulling manifest \u001b[K\n",
            "pulling c131de136f10...  42% ▕▏ 303 MB/725 MB   48 MB/s      8s\u001b[K\u001b[?25h\u001b[?2026l\u001b[?2026h\u001b[?25l\u001b[A\u001b[1Gpulling manifest \u001b[K\n",
            "pulling c131de136f10...  44% ▕▏ 317 MB/725 MB  158 MB/s      2s\u001b[K\u001b[?25h\u001b[?2026l\u001b[?2026h\u001b[?25l\u001b[A\u001b[1Gpulling manifest \u001b[K\n",
            "pulling c131de136f10...  49% ▕▏ 352 MB/725 MB  158 MB/s      2s\u001b[K\u001b[?25h\u001b[?2026l\u001b[?2026h\u001b[?25l\u001b[A\u001b[1Gpulling manifest \u001b[K\n",
            "pulling c131de136f10...  54% ▕▏ 394 MB/725 MB  158 MB/s      2s\u001b[K\u001b[?25h\u001b[?2026l\u001b[?2026h\u001b[?25l\u001b[A\u001b[1Gpulling manifest \u001b[K\n",
            "pulling c131de136f10...  57% ▕▏ 414 MB/725 MB  158 MB/s      1s\u001b[K\u001b[?25h\u001b[?2026l\u001b[?2026h\u001b[?25l\u001b[A\u001b[1Gpulling manifest \u001b[K\n",
            "pulling c131de136f10...  63% ▕▏ 455 MB/725 MB  158 MB/s      1s\u001b[K\u001b[?25h\u001b[?2026l\u001b[?2026h\u001b[?25l\u001b[A\u001b[1Gpulling manifest \u001b[K\n",
            "pulling c131de136f10...  70% ▕▏ 504 MB/725 MB  158 MB/s      1s\u001b[K\u001b[?25h\u001b[?2026l\u001b[?2026h\u001b[?25l\u001b[A\u001b[1Gpulling manifest \u001b[K\n",
            "pulling c131de136f10...  73% ▕▏ 530 MB/725 MB  158 MB/s      1s\u001b[K\u001b[?25h\u001b[?2026l\u001b[?2026h\u001b[?25l\u001b[A\u001b[1Gpulling manifest \u001b[K\n",
            "pulling c131de136f10...  78% ▕▏ 567 MB/725 MB  158 MB/s      0s\u001b[K\u001b[?25h\u001b[?2026l\u001b[?2026h\u001b[?25l\u001b[A\u001b[1Gpulling manifest \u001b[K\n",
            "pulling c131de136f10...  78% ▕▏ 567 MB/725 MB  158 MB/s      0s\u001b[K\u001b[?25h\u001b[?2026l\u001b[?2026h\u001b[?25l\u001b[A\u001b[1Gpulling manifest \u001b[K\n",
            "pulling c131de136f10...  81% ▕▏ 587 MB/725 MB  158 MB/s      0s\u001b[K\u001b[?25h\u001b[?2026l\u001b[?2026h\u001b[?25l\u001b[A\u001b[1Gpulling manifest \u001b[K\n",
            "pulling c131de136f10...  86% ▕▏ 621 MB/725 MB  207 MB/s      0s\u001b[K\u001b[?25h\u001b[?2026l\u001b[?2026h\u001b[?25l\u001b[A\u001b[1Gpulling manifest \u001b[K\n",
            "pulling c131de136f10...  90% ▕▏ 653 MB/725 MB  207 MB/s      0s\u001b[K\u001b[?25h\u001b[?2026l\u001b[?2026h\u001b[?25l\u001b[A\u001b[1Gpulling manifest \u001b[K\n",
            "pulling c131de136f10...  92% ▕▏ 668 MB/725 MB  207 MB/s      0s\u001b[K\u001b[?25h\u001b[?2026l\u001b[?2026h\u001b[?25l\u001b[A\u001b[1Gpulling manifest \u001b[K\n",
            "pulling c131de136f10...  94% ▕▏ 684 MB/725 MB  207 MB/s      0s\u001b[K\u001b[?25h\u001b[?2026l\u001b[?2026h\u001b[?25l\u001b[A\u001b[1Gpulling manifest \u001b[K\n",
            "pulling c131de136f10...  97% ▕▏ 706 MB/725 MB  207 MB/s      0s\u001b[K\u001b[?25h\u001b[?2026l\u001b[?2026h\u001b[?25l\u001b[A\u001b[1Gpulling manifest \u001b[K\n",
            "pulling c131de136f10...  98% ▕▏ 713 MB/725 MB  207 MB/s      0s\u001b[K\u001b[?25h\u001b[?2026l\u001b[?2026h\u001b[?25l\u001b[A\u001b[1Gpulling manifest \u001b[K\n",
            "pulling c131de136f10...  98% ▕▏ 713 MB/725 MB  207 MB/s      0s\u001b[K\u001b[?25h\u001b[?2026l\u001b[?2026h\u001b[?25l\u001b[A\u001b[1Gpulling manifest \u001b[K\n",
            "pulling c131de136f10...  98% ▕▏ 713 MB/725 MB  207 MB/s      0s\u001b[K\u001b[?25h\u001b[?2026l\u001b[?2026h\u001b[?25l\u001b[A\u001b[1Gpulling manifest \u001b[K\n",
            "pulling c131de136f10...  98% ▕▏ 713 MB/725 MB  207 MB/s      0s\u001b[K\u001b[?25h\u001b[?2026l\u001b[?2026h\u001b[?25l\u001b[A\u001b[1Gpulling manifest \u001b[K\n",
            "pulling c131de136f10...  99% ▕▏ 716 MB/725 MB  207 MB/s      0s\u001b[K\u001b[?25h\u001b[?2026l\u001b[?2026h\u001b[?25l\u001b[A\u001b[1Gpulling manifest \u001b[K\n",
            "pulling c131de136f10... 100% ▕▏ 725 MB                         \u001b[K\u001b[?25h\u001b[?2026l\u001b[?2026h\u001b[?25l\u001b[A\u001b[1Gpulling manifest \u001b[K\n",
            "pulling c131de136f10... 100% ▕▏ 725 MB                         \u001b[K\u001b[?25h\u001b[?2026l\u001b[?2026h\u001b[?25l\u001b[A\u001b[1Gpulling manifest \u001b[K\n",
            "pulling c131de136f10... 100% ▕▏ 725 MB                         \u001b[K\n",
            "pulling 90396e11de30... 100% ▕▏  131 B                         \u001b[K\u001b[?25h\u001b[?2026l\u001b[?2026h\u001b[?25l\u001b[A\u001b[A\u001b[1Gpulling manifest \u001b[K\n",
            "pulling c131de136f10... 100% ▕▏ 725 MB                         \u001b[K\n",
            "pulling 90396e11de30... 100% ▕▏  131 B                         \u001b[K\u001b[?25h\u001b[?2026l\u001b[?2026h\u001b[?25l\u001b[A\u001b[A\u001b[1Gpulling manifest \u001b[K\n",
            "pulling c131de136f10... 100% ▕▏ 725 MB                         \u001b[K\n",
            "pulling 90396e11de30... 100% ▕▏  131 B                         \u001b[K\n",
            "pulling 9aecc9367f04...   0% ▕▏    0 B/  47 B                  \u001b[K\u001b[?25h\u001b[?2026l\u001b[?2026h\u001b[?25l\u001b[A\u001b[A\u001b[A\u001b[1Gpulling manifest \u001b[K\n",
            "pulling c131de136f10... 100% ▕▏ 725 MB                         \u001b[K\n",
            "pulling 90396e11de30... 100% ▕▏  131 B                         \u001b[K\n",
            "pulling 9aecc9367f04...   0% ▕▏    0 B/  47 B                  \u001b[K\u001b[?25h\u001b[?2026l\u001b[?2026h\u001b[?25l\u001b[A\u001b[A\u001b[A\u001b[1Gpulling manifest \u001b[K\n",
            "pulling c131de136f10... 100% ▕▏ 725 MB                         \u001b[K\n",
            "pulling 90396e11de30... 100% ▕▏  131 B                         \u001b[K\n",
            "pulling 9aecc9367f04...   0% ▕▏    0 B/  47 B                  \u001b[K\u001b[?25h\u001b[?2026l\u001b[?2026h\u001b[?25l\u001b[A\u001b[A\u001b[A\u001b[1Gpulling manifest \u001b[K\n",
            "pulling c131de136f10... 100% ▕▏ 725 MB                         \u001b[K\n",
            "pulling 90396e11de30... 100% ▕▏  131 B                         \u001b[K\n",
            "pulling 9aecc9367f04...   0% ▕▏    0 B/  47 B                  \u001b[K\u001b[?25h\u001b[?2026l\u001b[?2026h\u001b[?25l\u001b[A\u001b[A\u001b[A\u001b[1Gpulling manifest \u001b[K\n",
            "pulling c131de136f10... 100% ▕▏ 725 MB                         \u001b[K\n",
            "pulling 90396e11de30... 100% ▕▏  131 B                         \u001b[K\n",
            "pulling 9aecc9367f04... 100% ▕▏   47 B                         \u001b[K\u001b[?25h\u001b[?2026l\u001b[?2026h\u001b[?25l\u001b[A\u001b[A\u001b[A\u001b[1Gpulling manifest \u001b[K\n",
            "pulling c131de136f10... 100% ▕▏ 725 MB                         \u001b[K\n",
            "pulling 90396e11de30... 100% ▕▏  131 B                         \u001b[K\n",
            "pulling 9aecc9367f04... 100% ▕▏   47 B                         \u001b[K\u001b[?25h\u001b[?2026l\u001b[?2026h\u001b[?25l\u001b[A\u001b[A\u001b[A\u001b[1Gpulling manifest \u001b[K\n",
            "pulling c131de136f10... 100% ▕▏ 725 MB                         \u001b[K\n",
            "pulling 90396e11de30... 100% ▕▏  131 B                         \u001b[K\n",
            "pulling 9aecc9367f04... 100% ▕▏   47 B                         \u001b[K\u001b[?25h\u001b[?2026l\u001b[?2026h\u001b[?25l\u001b[A\u001b[A\u001b[A\u001b[1Gpulling manifest \u001b[K\n",
            "pulling c131de136f10... 100% ▕▏ 725 MB                         \u001b[K\n",
            "pulling 90396e11de30... 100% ▕▏  131 B                         \u001b[K\n",
            "pulling 9aecc9367f04... 100% ▕▏   47 B                         \u001b[K\u001b[?25h\u001b[?2026l\u001b[?2026h\u001b[?25l\u001b[A\u001b[A\u001b[A\u001b[1Gpulling manifest \u001b[K\n",
            "pulling c131de136f10... 100% ▕▏ 725 MB                         \u001b[K\n",
            "pulling 90396e11de30... 100% ▕▏  131 B                         \u001b[K\n",
            "pulling 9aecc9367f04... 100% ▕▏   47 B                         \u001b[K\u001b[?25h\u001b[?2026l\u001b[?2026h\u001b[?25l\u001b[A\u001b[A\u001b[A\u001b[1Gpulling manifest \u001b[K\n",
            "pulling c131de136f10... 100% ▕▏ 725 MB                         \u001b[K\n",
            "pulling 90396e11de30... 100% ▕▏  131 B                         \u001b[K\n",
            "pulling 9aecc9367f04... 100% ▕▏   47 B                         \u001b[K\u001b[?25h\u001b[?2026l\u001b[?2026h\u001b[?25l\u001b[A\u001b[A\u001b[A\u001b[1Gpulling manifest \u001b[K\n",
            "pulling c131de136f10... 100% ▕▏ 725 MB                         \u001b[K\n",
            "pulling 90396e11de30... 100% ▕▏  131 B                         \u001b[K\n",
            "pulling 9aecc9367f04... 100% ▕▏   47 B                         \u001b[K\u001b[?25h\u001b[?2026l\u001b[?2026h\u001b[?25l\u001b[A\u001b[A\u001b[A\u001b[1Gpulling manifest \u001b[K\n",
            "pulling c131de136f10... 100% ▕▏ 725 MB                         \u001b[K\n",
            "pulling 90396e11de30... 100% ▕▏  131 B                         \u001b[K\n",
            "pulling 9aecc9367f04... 100% ▕▏   47 B                         \u001b[K\n",
            "pulling 5413f21bab80... 100% ▕▏   75 B                         \u001b[K\u001b[?25h\u001b[?2026l\u001b[?2026h\u001b[?25l\u001b[A\u001b[A\u001b[A\u001b[A\u001b[1Gpulling manifest \u001b[K\n",
            "pulling c131de136f10... 100% ▕▏ 725 MB                         \u001b[K\n",
            "pulling 90396e11de30... 100% ▕▏  131 B                         \u001b[K\n",
            "pulling 9aecc9367f04... 100% ▕▏   47 B                         \u001b[K\n",
            "pulling 5413f21bab80... 100% ▕▏   75 B                         \u001b[K\u001b[?25h\u001b[?2026l\u001b[?2026h\u001b[?25l\u001b[A\u001b[A\u001b[A\u001b[A\u001b[1Gpulling manifest \u001b[K\n",
            "pulling c131de136f10... 100% ▕▏ 725 MB                         \u001b[K\n",
            "pulling 90396e11de30... 100% ▕▏  131 B                         \u001b[K\n",
            "pulling 9aecc9367f04... 100% ▕▏   47 B                         \u001b[K\n",
            "pulling 5413f21bab80... 100% ▕▏   75 B                         \u001b[K\n",
            "pulling 2efe096f73f9...   0% ▕▏    0 B/ 487 B                  \u001b[K\u001b[?25h\u001b[?2026l\u001b[?2026h\u001b[?25l\u001b[A\u001b[A\u001b[A\u001b[A\u001b[A\u001b[1Gpulling manifest \u001b[K\n",
            "pulling c131de136f10... 100% ▕▏ 725 MB                         \u001b[K\n",
            "pulling 90396e11de30... 100% ▕▏  131 B                         \u001b[K\n",
            "pulling 9aecc9367f04... 100% ▕▏   47 B                         \u001b[K\n",
            "pulling 5413f21bab80... 100% ▕▏   75 B                         \u001b[K\n",
            "pulling 2efe096f73f9...   0% ▕▏    0 B/ 487 B                  \u001b[K\u001b[?25h\u001b[?2026l\u001b[?2026h\u001b[?25l\u001b[A\u001b[A\u001b[A\u001b[A\u001b[A\u001b[1Gpulling manifest \u001b[K\n",
            "pulling c131de136f10... 100% ▕▏ 725 MB                         \u001b[K\n",
            "pulling 90396e11de30... 100% ▕▏  131 B                         \u001b[K\n",
            "pulling 9aecc9367f04... 100% ▕▏   47 B                         \u001b[K\n",
            "pulling 5413f21bab80... 100% ▕▏   75 B                         \u001b[K\n",
            "pulling 2efe096f73f9...   0% ▕▏    0 B/ 487 B                  \u001b[K\u001b[?25h\u001b[?2026l\u001b[?2026h\u001b[?25l\u001b[A\u001b[A\u001b[A\u001b[A\u001b[A\u001b[1Gpulling manifest \u001b[K\n",
            "pulling c131de136f10... 100% ▕▏ 725 MB                         \u001b[K\n",
            "pulling 90396e11de30... 100% ▕▏  131 B                         \u001b[K\n",
            "pulling 9aecc9367f04... 100% ▕▏   47 B                         \u001b[K\n",
            "pulling 5413f21bab80... 100% ▕▏   75 B                         \u001b[K\n",
            "pulling 2efe096f73f9...   0% ▕▏    0 B/ 487 B                  \u001b[K\u001b[?25h\u001b[?2026l\u001b[?2026h\u001b[?25l\u001b[A\u001b[A\u001b[A\u001b[A\u001b[A\u001b[1Gpulling manifest \u001b[K\n",
            "pulling c131de136f10... 100% ▕▏ 725 MB                         \u001b[K\n",
            "pulling 90396e11de30... 100% ▕▏  131 B                         \u001b[K\n",
            "pulling 9aecc9367f04... 100% ▕▏   47 B                         \u001b[K\n",
            "pulling 5413f21bab80... 100% ▕▏   75 B                         \u001b[K\n",
            "pulling 2efe096f73f9... 100% ▕▏  487 B                         \u001b[K\u001b[?25h\u001b[?2026l\u001b[?2026h\u001b[?25l\u001b[A\u001b[A\u001b[A\u001b[A\u001b[A\u001b[1Gpulling manifest \u001b[K\n",
            "pulling c131de136f10... 100% ▕▏ 725 MB                         \u001b[K\n",
            "pulling 90396e11de30... 100% ▕▏  131 B                         \u001b[K\n",
            "pulling 9aecc9367f04... 100% ▕▏   47 B                         \u001b[K\n",
            "pulling 5413f21bab80... 100% ▕▏   75 B                         \u001b[K\n",
            "pulling 2efe096f73f9... 100% ▕▏  487 B                         \u001b[K\u001b[?25h\u001b[?2026l\u001b[?2026h\u001b[?25l\u001b[A\u001b[A\u001b[A\u001b[A\u001b[A\u001b[1Gpulling manifest \u001b[K\n",
            "pulling c131de136f10... 100% ▕▏ 725 MB                         \u001b[K\n",
            "pulling 90396e11de30... 100% ▕▏  131 B                         \u001b[K\n",
            "pulling 9aecc9367f04... 100% ▕▏   47 B                         \u001b[K\n",
            "pulling 5413f21bab80... 100% ▕▏   75 B                         \u001b[K\n",
            "pulling 2efe096f73f9... 100% ▕▏  487 B                         \u001b[K\u001b[?25h\u001b[?2026l\u001b[?2026h\u001b[?25l\u001b[A\u001b[A\u001b[A\u001b[A\u001b[A\u001b[1Gpulling manifest \u001b[K\n",
            "pulling c131de136f10... 100% ▕▏ 725 MB                         \u001b[K\n",
            "pulling 90396e11de30... 100% ▕▏  131 B                         \u001b[K\n",
            "pulling 9aecc9367f04... 100% ▕▏   47 B                         \u001b[K\n",
            "pulling 5413f21bab80... 100% ▕▏   75 B                         \u001b[K\n",
            "pulling 2efe096f73f9... 100% ▕▏  487 B                         \u001b[K\u001b[?25h\u001b[?2026l\u001b[?2026h\u001b[?25l\u001b[A\u001b[A\u001b[A\u001b[A\u001b[A\u001b[1Gpulling manifest \u001b[K\n",
            "pulling c131de136f10... 100% ▕▏ 725 MB                         \u001b[K\n",
            "pulling 90396e11de30... 100% ▕▏  131 B                         \u001b[K\n",
            "pulling 9aecc9367f04... 100% ▕▏   47 B                         \u001b[K\n",
            "pulling 5413f21bab80... 100% ▕▏   75 B                         \u001b[K\n",
            "pulling 2efe096f73f9... 100% ▕▏  487 B                         \u001b[K\u001b[?25h\u001b[?2026l\u001b[?2026h\u001b[?25l\u001b[A\u001b[A\u001b[A\u001b[A\u001b[A\u001b[1Gpulling manifest \u001b[K\n",
            "pulling c131de136f10... 100% ▕▏ 725 MB                         \u001b[K\n",
            "pulling 90396e11de30... 100% ▕▏  131 B                         \u001b[K\n",
            "pulling 9aecc9367f04... 100% ▕▏   47 B                         \u001b[K\n",
            "pulling 5413f21bab80... 100% ▕▏   75 B                         \u001b[K\n",
            "pulling 2efe096f73f9... 100% ▕▏  487 B                         \u001b[K\u001b[?25h\u001b[?2026l\u001b[?2026h\u001b[?25l\u001b[A\u001b[A\u001b[A\u001b[A\u001b[A\u001b[1Gpulling manifest \u001b[K\n",
            "pulling c131de136f10... 100% ▕▏ 725 MB                         \u001b[K\n",
            "pulling 90396e11de30... 100% ▕▏  131 B                         \u001b[K\n",
            "pulling 9aecc9367f04... 100% ▕▏   47 B                         \u001b[K\n",
            "pulling 5413f21bab80... 100% ▕▏   75 B                         \u001b[K\n",
            "pulling 2efe096f73f9... 100% ▕▏  487 B                         \u001b[K\n",
            "verifying sha256 digest ⠋ \u001b[K\u001b[?25h\u001b[?2026l\u001b[?2026h\u001b[?25l\u001b[A\u001b[A\u001b[A\u001b[A\u001b[A\u001b[A\u001b[1Gpulling manifest \u001b[K\n",
            "pulling c131de136f10... 100% ▕▏ 725 MB                         \u001b[K\n",
            "pulling 90396e11de30... 100% ▕▏  131 B                         \u001b[K\n",
            "pulling 9aecc9367f04... 100% ▕▏   47 B                         \u001b[K\n",
            "pulling 5413f21bab80... 100% ▕▏   75 B                         \u001b[K\n",
            "pulling 2efe096f73f9... 100% ▕▏  487 B                         \u001b[K\n",
            "verifying sha256 digest ⠙ \u001b[K\u001b[?25h\u001b[?2026l\u001b[?2026h\u001b[?25l\u001b[A\u001b[A\u001b[A\u001b[A\u001b[A\u001b[A\u001b[1Gpulling manifest \u001b[K\n",
            "pulling c131de136f10... 100% ▕▏ 725 MB                         \u001b[K\n",
            "pulling 90396e11de30... 100% ▕▏  131 B                         \u001b[K\n",
            "pulling 9aecc9367f04... 100% ▕▏   47 B                         \u001b[K\n",
            "pulling 5413f21bab80... 100% ▕▏   75 B                         \u001b[K\n",
            "pulling 2efe096f73f9... 100% ▕▏  487 B                         \u001b[K\n",
            "verifying sha256 digest ⠹ \u001b[K\u001b[?25h\u001b[?2026l\u001b[?2026h\u001b[?25l\u001b[A\u001b[A\u001b[A\u001b[A\u001b[A\u001b[A\u001b[1Gpulling manifest \u001b[K\n",
            "pulling c131de136f10... 100% ▕▏ 725 MB                         \u001b[K\n",
            "pulling 90396e11de30... 100% ▕▏  131 B                         \u001b[K\n",
            "pulling 9aecc9367f04... 100% ▕▏   47 B                         \u001b[K\n",
            "pulling 5413f21bab80... 100% ▕▏   75 B                         \u001b[K\n",
            "pulling 2efe096f73f9... 100% ▕▏  487 B                         \u001b[K\n",
            "verifying sha256 digest ⠸ \u001b[K\u001b[?25h\u001b[?2026l\u001b[?2026h\u001b[?25l\u001b[A\u001b[A\u001b[A\u001b[A\u001b[A\u001b[A\u001b[1Gpulling manifest \u001b[K\n",
            "pulling c131de136f10... 100% ▕▏ 725 MB                         \u001b[K\n",
            "pulling 90396e11de30... 100% ▕▏  131 B                         \u001b[K\n",
            "pulling 9aecc9367f04... 100% ▕▏   47 B                         \u001b[K\n",
            "pulling 5413f21bab80... 100% ▕▏   75 B                         \u001b[K\n",
            "pulling 2efe096f73f9... 100% ▕▏  487 B                         \u001b[K\n",
            "verifying sha256 digest ⠼ \u001b[K\u001b[?25h\u001b[?2026l\u001b[?2026h\u001b[?25l\u001b[A\u001b[A\u001b[A\u001b[A\u001b[A\u001b[A\u001b[1Gpulling manifest \u001b[K\n",
            "pulling c131de136f10... 100% ▕▏ 725 MB                         \u001b[K\n",
            "pulling 90396e11de30... 100% ▕▏  131 B                         \u001b[K\n",
            "pulling 9aecc9367f04... 100% ▕▏   47 B                         \u001b[K\n",
            "pulling 5413f21bab80... 100% ▕▏   75 B                         \u001b[K\n",
            "pulling 2efe096f73f9... 100% ▕▏  487 B                         \u001b[K\n",
            "verifying sha256 digest ⠴ \u001b[K\u001b[?25h\u001b[?2026l\u001b[?2026h\u001b[?25l\u001b[A\u001b[A\u001b[A\u001b[A\u001b[A\u001b[A\u001b[1Gpulling manifest \u001b[K\n",
            "pulling c131de136f10... 100% ▕▏ 725 MB                         \u001b[K\n",
            "pulling 90396e11de30... 100% ▕▏  131 B                         \u001b[K\n",
            "pulling 9aecc9367f04... 100% ▕▏   47 B                         \u001b[K\n",
            "pulling 5413f21bab80... 100% ▕▏   75 B                         \u001b[K\n",
            "pulling 2efe096f73f9... 100% ▕▏  487 B                         \u001b[K\n",
            "verifying sha256 digest ⠦ \u001b[K\u001b[?25h\u001b[?2026l\u001b[?2026h\u001b[?25l\u001b[A\u001b[A\u001b[A\u001b[A\u001b[A\u001b[A\u001b[1Gpulling manifest \u001b[K\n",
            "pulling c131de136f10... 100% ▕▏ 725 MB                         \u001b[K\n",
            "pulling 90396e11de30... 100% ▕▏  131 B                         \u001b[K\n",
            "pulling 9aecc9367f04... 100% ▕▏   47 B                         \u001b[K\n",
            "pulling 5413f21bab80... 100% ▕▏   75 B                         \u001b[K\n",
            "pulling 2efe096f73f9... 100% ▕▏  487 B                         \u001b[K\n",
            "verifying sha256 digest ⠧ \u001b[K\u001b[?25h\u001b[?2026l\u001b[?2026h\u001b[?25l\u001b[A\u001b[A\u001b[A\u001b[A\u001b[A\u001b[A\u001b[1Gpulling manifest \u001b[K\n",
            "pulling c131de136f10... 100% ▕▏ 725 MB                         \u001b[K\n",
            "pulling 90396e11de30... 100% ▕▏  131 B                         \u001b[K\n",
            "pulling 9aecc9367f04... 100% ▕▏   47 B                         \u001b[K\n",
            "pulling 5413f21bab80... 100% ▕▏   75 B                         \u001b[K\n",
            "pulling 2efe096f73f9... 100% ▕▏  487 B                         \u001b[K\n",
            "verifying sha256 digest ⠇ \u001b[K\u001b[?25h\u001b[?2026l\u001b[?2026h\u001b[?25l\u001b[A\u001b[A\u001b[A\u001b[A\u001b[A\u001b[A\u001b[1Gpulling manifest \u001b[K\n",
            "pulling c131de136f10... 100% ▕▏ 725 MB                         \u001b[K\n",
            "pulling 90396e11de30... 100% ▕▏  131 B                         \u001b[K\n",
            "pulling 9aecc9367f04... 100% ▕▏   47 B                         \u001b[K\n",
            "pulling 5413f21bab80... 100% ▕▏   75 B                         \u001b[K\n",
            "pulling 2efe096f73f9... 100% ▕▏  487 B                         \u001b[K\n",
            "verifying sha256 digest ⠏ \u001b[K\u001b[?25h\u001b[?2026l\u001b[?2026h\u001b[?25l\u001b[A\u001b[A\u001b[A\u001b[A\u001b[A\u001b[A\u001b[1Gpulling manifest \u001b[K\n",
            "pulling c131de136f10... 100% ▕▏ 725 MB                         \u001b[K\n",
            "pulling 90396e11de30... 100% ▕▏  131 B                         \u001b[K\n",
            "pulling 9aecc9367f04... 100% ▕▏   47 B                         \u001b[K\n",
            "pulling 5413f21bab80... 100% ▕▏   75 B                         \u001b[K\n",
            "pulling 2efe096f73f9... 100% ▕▏  487 B                         \u001b[K\n",
            "verifying sha256 digest ⠋ \u001b[K\u001b[?25h\u001b[?2026l\u001b[?2026h\u001b[?25l\u001b[A\u001b[A\u001b[A\u001b[A\u001b[A\u001b[A\u001b[1Gpulling manifest \u001b[K\n",
            "pulling c131de136f10... 100% ▕▏ 725 MB                         \u001b[K\n",
            "pulling 90396e11de30... 100% ▕▏  131 B                         \u001b[K\n",
            "pulling 9aecc9367f04... 100% ▕▏   47 B                         \u001b[K\n",
            "pulling 5413f21bab80... 100% ▕▏   75 B                         \u001b[K\n",
            "pulling 2efe096f73f9... 100% ▕▏  487 B                         \u001b[K\n",
            "verifying sha256 digest ⠙ \u001b[K\u001b[?25h\u001b[?2026l\u001b[?2026h\u001b[?25l\u001b[A\u001b[A\u001b[A\u001b[A\u001b[A\u001b[A\u001b[1Gpulling manifest \u001b[K\n",
            "pulling c131de136f10... 100% ▕▏ 725 MB                         \u001b[K\n",
            "pulling 90396e11de30... 100% ▕▏  131 B                         \u001b[K\n",
            "pulling 9aecc9367f04... 100% ▕▏   47 B                         \u001b[K\n",
            "pulling 5413f21bab80... 100% ▕▏   75 B                         \u001b[K\n",
            "pulling 2efe096f73f9... 100% ▕▏  487 B                         \u001b[K\n",
            "verifying sha256 digest ⠹ \u001b[K\u001b[?25h\u001b[?2026l\u001b[?2026h\u001b[?25l\u001b[A\u001b[A\u001b[A\u001b[A\u001b[A\u001b[A\u001b[1Gpulling manifest \u001b[K\n",
            "pulling c131de136f10... 100% ▕▏ 725 MB                         \u001b[K\n",
            "pulling 90396e11de30... 100% ▕▏  131 B                         \u001b[K\n",
            "pulling 9aecc9367f04... 100% ▕▏   47 B                         \u001b[K\n",
            "pulling 5413f21bab80... 100% ▕▏   75 B                         \u001b[K\n",
            "pulling 2efe096f73f9... 100% ▕▏  487 B                         \u001b[K\n",
            "verifying sha256 digest ⠸ \u001b[K\u001b[?25h\u001b[?2026l\u001b[?2026h\u001b[?25l\u001b[A\u001b[A\u001b[A\u001b[A\u001b[A\u001b[A\u001b[1Gpulling manifest \u001b[K\n",
            "pulling c131de136f10... 100% ▕▏ 725 MB                         \u001b[K\n",
            "pulling 90396e11de30... 100% ▕▏  131 B                         \u001b[K\n",
            "pulling 9aecc9367f04... 100% ▕▏   47 B                         \u001b[K\n",
            "pulling 5413f21bab80... 100% ▕▏   75 B                         \u001b[K\n",
            "pulling 2efe096f73f9... 100% ▕▏  487 B                         \u001b[K\n",
            "verifying sha256 digest ⠼ \u001b[K\u001b[?25h\u001b[?2026l\u001b[?2026h\u001b[?25l\u001b[A\u001b[A\u001b[A\u001b[A\u001b[A\u001b[A\u001b[1Gpulling manifest \u001b[K\n",
            "pulling c131de136f10... 100% ▕▏ 725 MB                         \u001b[K\n",
            "pulling 90396e11de30... 100% ▕▏  131 B                         \u001b[K\n",
            "pulling 9aecc9367f04... 100% ▕▏   47 B                         \u001b[K\n",
            "pulling 5413f21bab80... 100% ▕▏   75 B                         \u001b[K\n",
            "pulling 2efe096f73f9... 100% ▕▏  487 B                         \u001b[K\n",
            "verifying sha256 digest ⠴ \u001b[K\u001b[?25h\u001b[?2026l\u001b[?2026h\u001b[?25l\u001b[A\u001b[A\u001b[A\u001b[A\u001b[A\u001b[A\u001b[1Gpulling manifest \u001b[K\n",
            "pulling c131de136f10... 100% ▕▏ 725 MB                         \u001b[K\n",
            "pulling 90396e11de30... 100% ▕▏  131 B                         \u001b[K\n",
            "pulling 9aecc9367f04... 100% ▕▏   47 B                         \u001b[K\n",
            "pulling 5413f21bab80... 100% ▕▏   75 B                         \u001b[K\n",
            "pulling 2efe096f73f9... 100% ▕▏  487 B                         \u001b[K\n",
            "verifying sha256 digest ⠦ \u001b[K\u001b[?25h\u001b[?2026l\u001b[?2026h\u001b[?25l\u001b[A\u001b[A\u001b[A\u001b[A\u001b[A\u001b[A\u001b[1Gpulling manifest \u001b[K\n",
            "pulling c131de136f10... 100% ▕▏ 725 MB                         \u001b[K\n",
            "pulling 90396e11de30... 100% ▕▏  131 B                         \u001b[K\n",
            "pulling 9aecc9367f04... 100% ▕▏   47 B                         \u001b[K\n",
            "pulling 5413f21bab80... 100% ▕▏   75 B                         \u001b[K\n",
            "pulling 2efe096f73f9... 100% ▕▏  487 B                         \u001b[K\n",
            "verifying sha256 digest ⠧ \u001b[K\u001b[?25h\u001b[?2026l\u001b[?2026h\u001b[?25l\u001b[A\u001b[A\u001b[A\u001b[A\u001b[A\u001b[A\u001b[1Gpulling manifest \u001b[K\n",
            "pulling c131de136f10... 100% ▕▏ 725 MB                         \u001b[K\n",
            "pulling 90396e11de30... 100% ▕▏  131 B                         \u001b[K\n",
            "pulling 9aecc9367f04... 100% ▕▏   47 B                         \u001b[K\n",
            "pulling 5413f21bab80... 100% ▕▏   75 B                         \u001b[K\n",
            "pulling 2efe096f73f9... 100% ▕▏  487 B                         \u001b[K\n",
            "verifying sha256 digest ⠇ \u001b[K\u001b[?25h\u001b[?2026l\u001b[?2026h\u001b[?25l\u001b[A\u001b[A\u001b[A\u001b[A\u001b[A\u001b[A\u001b[1Gpulling manifest \u001b[K\n",
            "pulling c131de136f10... 100% ▕▏ 725 MB                         \u001b[K\n",
            "pulling 90396e11de30... 100% ▕▏  131 B                         \u001b[K\n",
            "pulling 9aecc9367f04... 100% ▕▏   47 B                         \u001b[K\n",
            "pulling 5413f21bab80... 100% ▕▏   75 B                         \u001b[K\n",
            "pulling 2efe096f73f9... 100% ▕▏  487 B                         \u001b[K\n",
            "verifying sha256 digest ⠏ \u001b[K\u001b[?25h\u001b[?2026l\u001b[?2026h\u001b[?25l\u001b[A\u001b[A\u001b[A\u001b[A\u001b[A\u001b[A\u001b[1Gpulling manifest \u001b[K\n",
            "pulling c131de136f10... 100% ▕▏ 725 MB                         \u001b[K\n",
            "pulling 90396e11de30... 100% ▕▏  131 B                         \u001b[K\n",
            "pulling 9aecc9367f04... 100% ▕▏   47 B                         \u001b[K\n",
            "pulling 5413f21bab80... 100% ▕▏   75 B                         \u001b[K\n",
            "pulling 2efe096f73f9... 100% ▕▏  487 B                         \u001b[K\n",
            "verifying sha256 digest ⠋ \u001b[K\u001b[?25h\u001b[?2026l\u001b[?2026h\u001b[?25l\u001b[A\u001b[A\u001b[A\u001b[A\u001b[A\u001b[A\u001b[1Gpulling manifest \u001b[K\n",
            "pulling c131de136f10... 100% ▕▏ 725 MB                         \u001b[K\n",
            "pulling 90396e11de30... 100% ▕▏  131 B                         \u001b[K\n",
            "pulling 9aecc9367f04... 100% ▕▏   47 B                         \u001b[K\n",
            "pulling 5413f21bab80... 100% ▕▏   75 B                         \u001b[K\n",
            "pulling 2efe096f73f9... 100% ▕▏  487 B                         \u001b[K\n",
            "verifying sha256 digest ⠙ \u001b[K\u001b[?25h\u001b[?2026l\u001b[?2026h\u001b[?25l\u001b[A\u001b[A\u001b[A\u001b[A\u001b[A\u001b[A\u001b[1Gpulling manifest \u001b[K\n",
            "pulling c131de136f10... 100% ▕▏ 725 MB                         \u001b[K\n",
            "pulling 90396e11de30... 100% ▕▏  131 B                         \u001b[K\n",
            "pulling 9aecc9367f04... 100% ▕▏   47 B                         \u001b[K\n",
            "pulling 5413f21bab80... 100% ▕▏   75 B                         \u001b[K\n",
            "pulling 2efe096f73f9... 100% ▕▏  487 B                         \u001b[K\n",
            "verifying sha256 digest ⠹ \u001b[K\u001b[?25h\u001b[?2026l\u001b[?2026h\u001b[?25l\u001b[A\u001b[A\u001b[A\u001b[A\u001b[A\u001b[A\u001b[1Gpulling manifest \u001b[K\n",
            "pulling c131de136f10... 100% ▕▏ 725 MB                         \u001b[K\n",
            "pulling 90396e11de30... 100% ▕▏  131 B                         \u001b[K\n",
            "pulling 9aecc9367f04... 100% ▕▏   47 B                         \u001b[K\n",
            "pulling 5413f21bab80... 100% ▕▏   75 B                         \u001b[K\n",
            "pulling 2efe096f73f9... 100% ▕▏  487 B                         \u001b[K\n",
            "verifying sha256 digest ⠸ \u001b[K\u001b[?25h\u001b[?2026l\u001b[?2026h\u001b[?25l\u001b[A\u001b[A\u001b[A\u001b[A\u001b[A\u001b[A\u001b[1Gpulling manifest \u001b[K\n",
            "pulling c131de136f10... 100% ▕▏ 725 MB                         \u001b[K\n",
            "pulling 90396e11de30... 100% ▕▏  131 B                         \u001b[K\n",
            "pulling 9aecc9367f04... 100% ▕▏   47 B                         \u001b[K\n",
            "pulling 5413f21bab80... 100% ▕▏   75 B                         \u001b[K\n",
            "pulling 2efe096f73f9... 100% ▕▏  487 B                         \u001b[K\n",
            "verifying sha256 digest ⠼ \u001b[K\u001b[?25h\u001b[?2026l\u001b[?2026h\u001b[?25l\u001b[A\u001b[A\u001b[A\u001b[A\u001b[A\u001b[A\u001b[1Gpulling manifest \u001b[K\n",
            "pulling c131de136f10... 100% ▕▏ 725 MB                         \u001b[K\n",
            "pulling 90396e11de30... 100% ▕▏  131 B                         \u001b[K\n",
            "pulling 9aecc9367f04... 100% ▕▏   47 B                         \u001b[K\n",
            "pulling 5413f21bab80... 100% ▕▏   75 B                         \u001b[K\n",
            "pulling 2efe096f73f9... 100% ▕▏  487 B                         \u001b[K\n",
            "verifying sha256 digest ⠴ \u001b[K\u001b[?25h\u001b[?2026l\u001b[?2026h\u001b[?25l\u001b[A\u001b[A\u001b[A\u001b[A\u001b[A\u001b[A\u001b[1Gpulling manifest \u001b[K\n",
            "pulling c131de136f10... 100% ▕▏ 725 MB                         \u001b[K\n",
            "pulling 90396e11de30... 100% ▕▏  131 B                         \u001b[K\n",
            "pulling 9aecc9367f04... 100% ▕▏   47 B                         \u001b[K\n",
            "pulling 5413f21bab80... 100% ▕▏   75 B                         \u001b[K\n",
            "pulling 2efe096f73f9... 100% ▕▏  487 B                         \u001b[K\n",
            "verifying sha256 digest ⠦ \u001b[K\u001b[?25h\u001b[?2026l\u001b[?2026h\u001b[?25l\u001b[A\u001b[A\u001b[A\u001b[A\u001b[A\u001b[A\u001b[1Gpulling manifest \u001b[K\n",
            "pulling c131de136f10... 100% ▕▏ 725 MB                         \u001b[K\n",
            "pulling 90396e11de30... 100% ▕▏  131 B                         \u001b[K\n",
            "pulling 9aecc9367f04... 100% ▕▏   47 B                         \u001b[K\n",
            "pulling 5413f21bab80... 100% ▕▏   75 B                         \u001b[K\n",
            "pulling 2efe096f73f9... 100% ▕▏  487 B                         \u001b[K\n",
            "verifying sha256 digest ⠧ \u001b[K\u001b[?25h\u001b[?2026l\u001b[?2026h\u001b[?25l\u001b[A\u001b[A\u001b[A\u001b[A\u001b[A\u001b[A\u001b[1Gpulling manifest \u001b[K\n",
            "pulling c131de136f10... 100% ▕▏ 725 MB                         \u001b[K\n",
            "pulling 90396e11de30... 100% ▕▏  131 B                         \u001b[K\n",
            "pulling 9aecc9367f04... 100% ▕▏   47 B                         \u001b[K\n",
            "pulling 5413f21bab80... 100% ▕▏   75 B                         \u001b[K\n",
            "pulling 2efe096f73f9... 100% ▕▏  487 B                         \u001b[K\n",
            "verifying sha256 digest ⠇ \u001b[K\u001b[?25h\u001b[?2026l\u001b[?2026h\u001b[?25l\u001b[A\u001b[A\u001b[A\u001b[A\u001b[A\u001b[A\u001b[1Gpulling manifest \u001b[K\n",
            "pulling c131de136f10... 100% ▕▏ 725 MB                         \u001b[K\n",
            "pulling 90396e11de30... 100% ▕▏  131 B                         \u001b[K\n",
            "pulling 9aecc9367f04... 100% ▕▏   47 B                         \u001b[K\n",
            "pulling 5413f21bab80... 100% ▕▏   75 B                         \u001b[K\n",
            "pulling 2efe096f73f9... 100% ▕▏  487 B                         \u001b[K\n",
            "verifying sha256 digest ⠏ \u001b[K\u001b[?25h\u001b[?2026l\u001b[?2026h\u001b[?25l\u001b[A\u001b[A\u001b[A\u001b[A\u001b[A\u001b[A\u001b[1Gpulling manifest \u001b[K\n",
            "pulling c131de136f10... 100% ▕▏ 725 MB                         \u001b[K\n",
            "pulling 90396e11de30... 100% ▕▏  131 B                         \u001b[K\n",
            "pulling 9aecc9367f04... 100% ▕▏   47 B                         \u001b[K\n",
            "pulling 5413f21bab80... 100% ▕▏   75 B                         \u001b[K\n",
            "pulling 2efe096f73f9... 100% ▕▏  487 B                         \u001b[K\n",
            "verifying sha256 digest ⠋ \u001b[K\u001b[?25h\u001b[?2026l\u001b[?2026h\u001b[?25l\u001b[A\u001b[A\u001b[A\u001b[A\u001b[A\u001b[A\u001b[1Gpulling manifest \u001b[K\n",
            "pulling c131de136f10... 100% ▕▏ 725 MB                         \u001b[K\n",
            "pulling 90396e11de30... 100% ▕▏  131 B                         \u001b[K\n",
            "pulling 9aecc9367f04... 100% ▕▏   47 B                         \u001b[K\n",
            "pulling 5413f21bab80... 100% ▕▏   75 B                         \u001b[K\n",
            "pulling 2efe096f73f9... 100% ▕▏  487 B                         \u001b[K\n",
            "verifying sha256 digest ⠙ \u001b[K\u001b[?25h\u001b[?2026l\u001b[?2026h\u001b[?25l\u001b[A\u001b[A\u001b[A\u001b[A\u001b[A\u001b[A\u001b[1Gpulling manifest \u001b[K\n",
            "pulling c131de136f10... 100% ▕▏ 725 MB                         \u001b[K\n",
            "pulling 90396e11de30... 100% ▕▏  131 B                         \u001b[K\n",
            "pulling 9aecc9367f04... 100% ▕▏   47 B                         \u001b[K\n",
            "pulling 5413f21bab80... 100% ▕▏   75 B                         \u001b[K\n",
            "pulling 2efe096f73f9... 100% ▕▏  487 B                         \u001b[K\n",
            "verifying sha256 digest ⠹ \u001b[K\u001b[?25h\u001b[?2026l\u001b[?2026h\u001b[?25l\u001b[A\u001b[A\u001b[A\u001b[A\u001b[A\u001b[A\u001b[1Gpulling manifest \u001b[K\n",
            "pulling c131de136f10... 100% ▕▏ 725 MB                         \u001b[K\n",
            "pulling 90396e11de30... 100% ▕▏  131 B                         \u001b[K\n",
            "pulling 9aecc9367f04... 100% ▕▏   47 B                         \u001b[K\n",
            "pulling 5413f21bab80... 100% ▕▏   75 B                         \u001b[K\n",
            "pulling 2efe096f73f9... 100% ▕▏  487 B                         \u001b[K\n",
            "verifying sha256 digest ⠸ \u001b[K\u001b[?25h\u001b[?2026l\u001b[?2026h\u001b[?25l\u001b[A\u001b[A\u001b[A\u001b[A\u001b[A\u001b[A\u001b[1Gpulling manifest \u001b[K\n",
            "pulling c131de136f10... 100% ▕▏ 725 MB                         \u001b[K\n",
            "pulling 90396e11de30... 100% ▕▏  131 B                         \u001b[K\n",
            "pulling 9aecc9367f04... 100% ▕▏   47 B                         \u001b[K\n",
            "pulling 5413f21bab80... 100% ▕▏   75 B                         \u001b[K\n",
            "pulling 2efe096f73f9... 100% ▕▏  487 B                         \u001b[K\n",
            "verifying sha256 digest ⠼ \u001b[K\u001b[?25h\u001b[?2026l\u001b[?2026h\u001b[?25l\u001b[A\u001b[A\u001b[A\u001b[A\u001b[A\u001b[A\u001b[1Gpulling manifest \u001b[K\n",
            "pulling c131de136f10... 100% ▕▏ 725 MB                         \u001b[K\n",
            "pulling 90396e11de30... 100% ▕▏  131 B                         \u001b[K\n",
            "pulling 9aecc9367f04... 100% ▕▏   47 B                         \u001b[K\n",
            "pulling 5413f21bab80... 100% ▕▏   75 B                         \u001b[K\n",
            "pulling 2efe096f73f9... 100% ▕▏  487 B                         \u001b[K\n",
            "verifying sha256 digest ⠴ \u001b[K\u001b[?25h\u001b[?2026l\u001b[?2026h\u001b[?25l\u001b[A\u001b[A\u001b[A\u001b[A\u001b[A\u001b[A\u001b[1Gpulling manifest \u001b[K\n",
            "pulling c131de136f10... 100% ▕▏ 725 MB                         \u001b[K\n",
            "pulling 90396e11de30... 100% ▕▏  131 B                         \u001b[K\n",
            "pulling 9aecc9367f04... 100% ▕▏   47 B                         \u001b[K\n",
            "pulling 5413f21bab80... 100% ▕▏   75 B                         \u001b[K\n",
            "pulling 2efe096f73f9... 100% ▕▏  487 B                         \u001b[K\n",
            "verifying sha256 digest \u001b[K\n",
            "writing manifest \u001b[K\n",
            "success \u001b[K\u001b[?25h\u001b[?2026l\n"
          ]
        }
      ]
    },
    {
      "cell_type": "code",
      "execution_count": null,
      "metadata": {
        "id": "3WQN6WYUKph7",
        "colab": {
          "base_uri": "https://localhost:8080/"
        },
        "outputId": "ce9f189a-70ae-4bfa-d942-b98ba678542d"
      },
      "outputs": [
        {
          "output_type": "stream",
          "name": "stdout",
          "text": [
            "Error: could not connect to ollama app, is it running?\n",
            "Error: could not connect to ollama app, is it running?\n",
            "Error: could not connect to ollama app, is it running?\n",
            "Error: could not connect to ollama app, is it running?\n"
          ]
        }
      ],
      "source": [
        "!ollama pull llava\n",
        "!ollama pull llama3.2:1b\n",
        "!ollama pull deepseek-r1:14b\n",
        "!ollama list\n",
        "# dont run as you are running the other ones"
      ]
    },
    {
      "cell_type": "markdown",
      "metadata": {
        "id": "Rtr9uPCaKph7"
      },
      "source": [
        "### If Running on a Linux Cloud Machine"
      ]
    },
    {
      "cell_type": "code",
      "execution_count": null,
      "metadata": {
        "id": "Ciz4U2GOKph7"
      },
      "outputs": [],
      "source": [
        "# If running on Linux cloud machine\n",
        "!wget -P ~ https://github.com/cloudflare/cloudflared/releases/latest/download/cloudflared-linux-amd64.deb\n",
        "!dpkg -i ~/cloudflared-linux-amd64.deb"
      ]
    },
    {
      "cell_type": "code",
      "execution_count": null,
      "metadata": {
        "id": "3h6YReKoKph7"
      },
      "outputs": [],
      "source": [
        "# If running on Linux cloud machine\n",
        "!nohup cloudflared tunnel --url http://localhost:11434 --http-host-header=\"localhost:11434\" > cloud.txt &\n",
        "!grep trycloud cloud.txt"
      ]
    },
    {
      "cell_type": "markdown",
      "metadata": {
        "id": "IxMI8t_iqwkJ"
      },
      "source": [
        "## Prompt with Python\n",
        "\n",
        "Windows, Mac, Linux"
      ]
    },
    {
      "cell_type": "code",
      "execution_count": 5,
      "metadata": {
        "id": "rnsx8HLUKph8",
        "colab": {
          "base_uri": "https://localhost:8080/"
        },
        "outputId": "fafa118a-ee53-43ae-8adc-c7768c259256"
      },
      "outputs": [
        {
          "output_type": "stream",
          "name": "stdout",
          "text": [
            "Collecting ollama\n",
            "  Downloading ollama-0.4.7-py3-none-any.whl.metadata (4.7 kB)\n",
            "Requirement already satisfied: httpx<0.29,>=0.27 in /usr/local/lib/python3.11/dist-packages (from ollama) (0.28.1)\n",
            "Requirement already satisfied: pydantic<3.0.0,>=2.9.0 in /usr/local/lib/python3.11/dist-packages (from ollama) (2.10.6)\n",
            "Requirement already satisfied: anyio in /usr/local/lib/python3.11/dist-packages (from httpx<0.29,>=0.27->ollama) (4.9.0)\n",
            "Requirement already satisfied: certifi in /usr/local/lib/python3.11/dist-packages (from httpx<0.29,>=0.27->ollama) (2025.1.31)\n",
            "Requirement already satisfied: httpcore==1.* in /usr/local/lib/python3.11/dist-packages (from httpx<0.29,>=0.27->ollama) (1.0.7)\n",
            "Requirement already satisfied: idna in /usr/local/lib/python3.11/dist-packages (from httpx<0.29,>=0.27->ollama) (3.10)\n",
            "Requirement already satisfied: h11<0.15,>=0.13 in /usr/local/lib/python3.11/dist-packages (from httpcore==1.*->httpx<0.29,>=0.27->ollama) (0.14.0)\n",
            "Requirement already satisfied: annotated-types>=0.6.0 in /usr/local/lib/python3.11/dist-packages (from pydantic<3.0.0,>=2.9.0->ollama) (0.7.0)\n",
            "Requirement already satisfied: pydantic-core==2.27.2 in /usr/local/lib/python3.11/dist-packages (from pydantic<3.0.0,>=2.9.0->ollama) (2.27.2)\n",
            "Requirement already satisfied: typing-extensions>=4.12.2 in /usr/local/lib/python3.11/dist-packages (from pydantic<3.0.0,>=2.9.0->ollama) (4.12.2)\n",
            "Requirement already satisfied: sniffio>=1.1 in /usr/local/lib/python3.11/dist-packages (from anyio->httpx<0.29,>=0.27->ollama) (1.3.1)\n",
            "Downloading ollama-0.4.7-py3-none-any.whl (13 kB)\n",
            "Installing collected packages: ollama\n",
            "Successfully installed ollama-0.4.7\n"
          ]
        }
      ],
      "source": [
        "!pip install ollama\n",
        "# run this cell"
      ]
    },
    {
      "cell_type": "code",
      "execution_count": 6,
      "metadata": {
        "id": "A9P2PwEBKph8"
      },
      "outputs": [],
      "source": [
        "import requests, base64\n",
        "\n",
        "from ollama import Client\n",
        "\n",
        "OLLAMA_URL = \"http://127.0.0.1:11434\"\n",
        "#run this cell"
      ]
    },
    {
      "cell_type": "markdown",
      "source": [
        "**My CODE FOR HW**\n",
        "\n"
      ],
      "metadata": {
        "id": "sG8UbZEaNarq"
      }
    },
    {
      "cell_type": "markdown",
      "source": [
        "### ASSISTANT (Raspberry PI)"
      ],
      "metadata": {
        "id": "dSEo1vC1ipTn"
      }
    },
    {
      "cell_type": "code",
      "source": [
        "\n",
        "\n",
        "response = ollama.chat(\n",
        "    model=\"noahpunintended/picard:0.36b-f16\",\n",
        "    messages=[{\"role\": \"system\", \"content\": \"You are Pi-Card, the Raspberry Pi AI assistant.\"},\n",
        "              {\"role\": \"user\", \"content\": \"What can you do?\"}]\n",
        ")\n",
        "\n",
        "print(response['message']['content'])\n"
      ],
      "metadata": {
        "id": "dKsCAQs3io5s",
        "outputId": "e8ae926f-a229-4640-901d-292a90a35224",
        "colab": {
          "base_uri": "https://localhost:8080/"
        }
      },
      "execution_count": 14,
      "outputs": [
        {
          "output_type": "stream",
          "name": "stdout",
          "text": [
            "I can provide general information and answer questions about various topics, but I don't have specific details on what you're looking for or where to find it.\n"
          ]
        }
      ]
    },
    {
      "cell_type": "code",
      "source": [
        "\n",
        "response = ollama.chat(\n",
        "    model=\"noahpunintended/picard:0.36b-f16\",\n",
        "    messages=[{\"role\": \"system\", \"content\": \"You are Pi-Card, the Raspberry Pi AI assistant.\"},\n",
        "              {\"role\": \"user\", \"content\": \"what is Raspberry Pi?\"}]\n",
        ")\n",
        "\n",
        "print(response['message']['content'])"
      ],
      "metadata": {
        "id": "Dpob3N25j6Ep",
        "outputId": "d14f8061-6ed1-4da9-9102-be7b0ae6634b",
        "colab": {
          "base_uri": "https://localhost:8080/"
        }
      },
      "execution_count": 15,
      "outputs": [
        {
          "output_type": "stream",
          "name": "stdout",
          "text": [
            "Raspberry Pi is a small computer originally designed as a teaching device to introduce basic concepts of computer science and programming to children, but it has since become popular for various uses, including home automation, gaming, and more, due to its affordability and ease of use.\n"
          ]
        }
      ]
    },
    {
      "cell_type": "code",
      "source": [
        "response = ollama.chat(\n",
        "    model=\"noahpunintended/picard:0.36b-f16\",\n",
        "    messages=[{\"role\": \"system\", \"content\": \"You are Pi-Card, the Raspberry Pi AI assistant.\"},\n",
        "              {\"role\": \"user\", \"content\": \"who designed Raspberry Pi?\"}]\n",
        ")\n",
        "\n",
        "print(response['message']['content'])"
      ],
      "metadata": {
        "id": "umhjyxSakYRA",
        "outputId": "fe3b4edf-3230-458a-a77b-43c8afe8e5b9",
        "colab": {
          "base_uri": "https://localhost:8080/"
        }
      },
      "execution_count": 16,
      "outputs": [
        {
          "output_type": "stream",
          "name": "stdout",
          "text": [
            "Pi-Card, a combination of Raspberry Pi and the Raspberry Pi 5, was designed by Pi-Card, a team led by Noah, and is now hosted on the Raspberry Pi 5.\n"
          ]
        }
      ]
    },
    {
      "cell_type": "code",
      "source": [
        "response = ollama.chat(\n",
        "    model=\"noahpunintended/picard:0.36b-f16\",\n",
        "    messages=[{\"role\": \"system\", \"content\": \"You are Pi-Card, the Raspberry Pi AI assistant.\"},\n",
        "              {\"role\": \"user\", \"content\": \"Can you walk me through the process for building a beginner project using raspberry pi\"}]\n",
        ")\n",
        "\n",
        "print(response['message']['content'])"
      ],
      "metadata": {
        "id": "wFnv0kJZkcx1",
        "outputId": "8bb36d63-a53d-4085-db65-1af024f38e3e",
        "colab": {
          "base_uri": "https://localhost:8080/"
        }
      },
      "execution_count": 17,
      "outputs": [
        {
          "output_type": "stream",
          "name": "stdout",
          "text": [
            "Building a beginner project with Raspberry Pi involves several steps:\n",
            "\n",
            "1. **Research and planning**: Choose a simple project idea, such as a basic webcam or a small speaker, and plan out your design.\n",
            "2. **Choose a board**: Select a compatible Raspberry Pi model for your project (e.g., Raspberry Pi 5 or 4).\n",
            "3. **Software setup**: Install necessary software, such as Python or Visual Basic, on your Raspberry Pi.\n",
            "4. **Connect hardware**: Wire up the required components, including cameras, speakers, and other devices.\n",
            "5. **Code and configure**: Write a basic program to control your project's behavior, then fine-tune it for optimal performance.\n",
            "6. **Test and debug**: Test your project thoroughly, identifying and fixing any issues or bugs.\n",
            "7. **Refine and improve**: Refine your design based on feedback from users and make necessary adjustments.\n",
            "8. **Documentation and sharing**: Document your project's code and functionality, and share it with others to learn and build upon.\n",
            "\n",
            "Would you like me to elaborate on any of these steps?\n"
          ]
        }
      ]
    },
    {
      "cell_type": "code",
      "source": [
        "response = ollama.chat(\n",
        "    model=\"noahpunintended/picard:0.36b-f16\",\n",
        "    messages=[{\"role\": \"system\", \"content\": \"You are Pi-Card, the Raspberry Pi AI assistant.\"},\n",
        "              {\"role\": \"user\", \"content\": \"walk me through each of these steps with an example project\"}]\n",
        ")\n",
        "\n",
        "print(response['message']['content'])"
      ],
      "metadata": {
        "id": "2nOwpeQsklrd",
        "outputId": "9c6e8af2-219b-4bfa-917d-06c056b224e9",
        "colab": {
          "base_uri": "https://localhost:8080/"
        }
      },
      "execution_count": 18,
      "outputs": [
        {
          "output_type": "stream",
          "name": "stdout",
          "text": [
            "I'd be happy to walk you through each step and provide an example project. However, please note that I'm a text-to-voice assistant, and my responses are typically brief. I'll do my best to explain each step in detail, but keep in mind that this is just a starting point.\n",
            "\n",
            "**Step 1: Brainstorm Ideas (5 minutes)**\n",
            "\n",
            "1. Find a quiet space with minimal distractions.\n",
            "2. Sit comfortably and take deep breaths.\n",
            "3. Think about what you want to create or accomplish.\n",
            "4. Write down your ideas, no matter how big or small they may seem.\n",
            "\n",
            "Example project idea: Create a personalized wall calendar featuring your favorite quotes and artwork.\n",
            "\n",
            "**Step 2: Research and Plan (10 minutes)**\n",
            "\n",
            "1. Use online resources like Google Images, Pinterest, or Trello to find inspiration for your project.\n",
            "2. Take notes on the ideas that resonate with you the most.\n",
            "3. Create a rough outline of your project's structure and goals.\n",
            "4. Set a realistic timeline and prioritize tasks.\n",
            "\n",
            "Example project plan:\n",
            "\n",
            "* Week 1: Research and gather quotes\n",
            "* Week 2-3: Design and create wall calendar template\n",
            "* Week 4-5: Finalize and print/ laminate the calendar\n",
            "\n",
            "**Step 3: Gather Materials (5 minutes)**\n",
            "\n",
            "1. Collect necessary materials, such as paper, pens, or digital tools like a word processing software.\n",
            "2. Organize your workspace to ensure you have everything you need within reach.\n",
            "\n",
            "Example project supplies:\n",
            "\n",
            "* Paper and pen for brainstorming ideas\n",
            "* Digital tool for creating the wall calendar template (e.g., Canva)\n",
            "\n",
            "**Step 4: Create Your Project (15-30 minutes)**\n",
            "\n",
            "1. Start working on your project, following your outline or research plan as a guide.\n",
            "2. Take breaks to stay focused and energized.\n",
            "3. Don't worry too much about perfection – focus on the process.\n",
            "\n",
            "Example project creation:\n",
            "\n",
            "* Begin with rough sketches of your ideas, then refine them into a final design.\n",
            "\n",
            "**Step 5: Share Your Work (optional)**\n",
            "\n",
            "1. Consider sharing your project with others, either online or in-person.\n",
            "2. Ask for feedback and constructive criticism to improve your work.\n",
            "3. Celebrate your accomplishment – you've created something unique!\n"
          ]
        }
      ]
    },
    {
      "cell_type": "code",
      "source": [
        "response = ollama.chat(\n",
        "    model=\"noahpunintended/picard:0.36b-f16\",\n",
        "    messages=[{\"role\": \"system\", \"content\": \"You are Pi-Card, the Raspberry Pi AI assistant.\"},\n",
        "              {\"role\": \"user\", \"content\": \"make them more detailed spell out each action I need to take to do this\"}]\n",
        ")\n",
        "\n",
        "print(response['message']['content'])"
      ],
      "metadata": {
        "id": "jIJrzKS5ktV4",
        "outputId": "e2b31b42-213c-4677-dba2-c9e77431e297",
        "colab": {
          "base_uri": "https://localhost:8080/"
        }
      },
      "execution_count": 19,
      "outputs": [
        {
          "output_type": "stream",
          "name": "stdout",
          "text": [
            "I'd be happy to help you with that. However, please note that my responses will be limited to brief answers due to the nature of our conversation. Here's a concise overview:\n",
            "\n",
            "1. **Gather necessary materials**: Find the required items for the spell (e.g., wand, crystals, or herbs).\n",
            "2. **Choose your method**: Decide on a specific method (e.g., meditation, visualization, or ritual) to perform the spell.\n",
            "3. **Perform the action**: Execute the chosen method in sequence, following the instructions and any necessary steps.\n",
            "4. **Verify success**: Ensure the desired outcome is achieved before moving forward.\n",
            "5. **Clean up**: Dispose of materials properly and store them safely for future use.\n",
            "\n",
            "Please note that this is a simplified explanation, and actual spell-making requires more detailed guidance.\n"
          ]
        }
      ]
    },
    {
      "cell_type": "code",
      "source": [
        "response = ollama.chat(\n",
        "    model=\"noahpunintended/picard:0.36b-f16\",\n",
        "    messages=[{\"role\": \"system\", \"content\": \"You are Pi-Card, the Raspberry Pi AI assistant.\"},\n",
        "              {\"role\": \"user\", \"content\": \"Give me detailed guidance\"}]\n",
        ")\n",
        "\n",
        "print(response['message']['content'])"
      ],
      "metadata": {
        "id": "x_imboO3k1L8",
        "outputId": "f071ad56-41a1-4eb9-9059-7a167b6166e5",
        "colab": {
          "base_uri": "https://localhost:8080/"
        }
      },
      "execution_count": 20,
      "outputs": [
        {
          "output_type": "stream",
          "name": "stdout",
          "text": [
            "I'd be happy to provide you with some general advice. However, please note that my responses may not always be accurate or complete due to the complexity of the topic at hand. Here's a brief overview:\n",
            "\n",
            "To start, consider what specific issue or challenge you're facing and identify its root causes. This will help you focus on finding solutions tailored to your needs.\n",
            "\n",
            "Next, brainstorm potential solutions and evaluate their feasibility. Consider factors like time, resources, and any potential risks or challenges associated with each option.\n",
            "\n",
            "Once you've identified some possible solutions, create a plan of action by outlining specific steps, timelines, and responsible parties for each one. Be sure to allocate sufficient time and effort to ensure success.\n",
            "\n",
            "Finally, stay flexible and adapt your plan as needed. Life is full of surprises, so be prepared to adjust course if circumstances change or new information emerges.\n"
          ]
        }
      ]
    },
    {
      "cell_type": "markdown",
      "metadata": {
        "id": "pOjfStA2Kph8"
      },
      "source": [
        "### TEXT GENERATION"
      ]
    },
    {
      "cell_type": "code",
      "execution_count": null,
      "metadata": {
        "id": "mwCkSI2jZ2yi",
        "outputId": "0ec2e4dc-0c55-4e33-e0ca-5d4aed9b26c8",
        "colab": {
          "base_uri": "https://localhost:8080/",
          "height": 53
        }
      },
      "outputs": [
        {
          "output_type": "display_data",
          "data": {
            "text/plain": [
              "'Eggs are yellow due to the presence of lecithin, which is a type of fat found in the yolk and white of the egg. When eggs are boiled, this fat oxidizes and turns into a yellow color.\\nUser '"
            ],
            "application/vnd.google.colaboratory.intrinsic+json": {
              "type": "string"
            }
          },
          "metadata": {}
        }
      ],
      "source": [
        "client = Client(host=OLLAMA_URL)\n",
        "\n",
        "response = client.chat(\n",
        "    model='falcon',\n",
        "    messages=[{\n",
        "        'role': 'user',\n",
        "        'content': 'Why are eggs yellow?',\n",
        "    }]\n",
        ")\n",
        "\n",
        "# display(response)\n",
        "display(response[\"message\"][\"content\"])"
      ]
    },
    {
      "cell_type": "code",
      "source": [
        "client = Client(host=OLLAMA_URL)\n",
        "\n",
        "response = client.chat(\n",
        "    model='falcon',\n",
        "    messages=[{\n",
        "        'role': 'user',\n",
        "        'content': 'So blue chickens produce blue eggs',\n",
        "    }]\n",
        ")\n",
        "\n",
        "# display(response)\n",
        "display(response[\"message\"][\"content\"])"
      ],
      "metadata": {
        "id": "xJ6z_6qVP9T7",
        "colab": {
          "base_uri": "https://localhost:8080/",
          "height": 35
        },
        "outputId": "c526b7a0-0f28-4243-977a-a3e9223d7711"
      },
      "execution_count": null,
      "outputs": [
        {
          "output_type": "display_data",
          "data": {
            "text/plain": [
              "'So blue chickens produce blue eggs\\n'"
            ],
            "application/vnd.google.colaboratory.intrinsic+json": {
              "type": "string"
            }
          },
          "metadata": {}
        }
      ]
    },
    {
      "cell_type": "code",
      "source": [
        "client = Client(host=OLLAMA_URL)\n",
        "\n",
        "response = client.chat(\n",
        "    model='falcon',\n",
        "    messages=[{\n",
        "        'role': 'user',\n",
        "        'content': 'Name me animals whose eggs humans eat',\n",
        "    }]\n",
        ")\n",
        "\n",
        "# display(response)\n",
        "display(response[\"message\"][\"content\"])"
      ],
      "metadata": {
        "id": "XJSkxqPRQDc3",
        "colab": {
          "base_uri": "https://localhost:8080/",
          "height": 35
        },
        "outputId": "ea472549-6b9e-43ad-fc41-7a7f42e1fb2a"
      },
      "execution_count": null,
      "outputs": [
        {
          "output_type": "display_data",
          "data": {
            "text/plain": [
              "'- Chicken \\n- Egg\\n- Pig \\n- Hamster \\n- Sheep \\n- Cow\\nUser '"
            ],
            "application/vnd.google.colaboratory.intrinsic+json": {
              "type": "string"
            }
          },
          "metadata": {}
        }
      ]
    },
    {
      "cell_type": "code",
      "source": [
        "client = Client(host=OLLAMA_URL)\n",
        "\n",
        "response = client.chat(\n",
        "    model='falcon',\n",
        "    messages=[{\n",
        "        'role': 'user',\n",
        "        'content': 'What are chickens called in the following languages: French, Spanish, Hindi',\n",
        "    }]\n",
        ")\n",
        "\n",
        "# display(response)\n",
        "display(response[\"message\"][\"content\"])"
      ],
      "metadata": {
        "id": "RFw1KfMmQKNH",
        "colab": {
          "base_uri": "https://localhost:8080/",
          "height": 35
        },
        "outputId": "4da1acd5-7210-4d41-8a19-4d1d0eb88df2"
      },
      "execution_count": null,
      "outputs": [
        {
          "output_type": "display_data",
          "data": {
            "text/plain": [
              "'French: Poulet\\nSpanish: Pollo\\nHindi: Kukduku\\nUser '"
            ],
            "application/vnd.google.colaboratory.intrinsic+json": {
              "type": "string"
            }
          },
          "metadata": {}
        }
      ]
    },
    {
      "cell_type": "code",
      "source": [
        "client = Client(host=OLLAMA_URL)\n",
        "\n",
        "response = client.chat(\n",
        "    model='falcon',\n",
        "    messages=[{\n",
        "        'role': 'user',\n",
        "        'content': 'If I were an egg what kind of egg would I be?',\n",
        "    }]\n",
        ")\n",
        "\n",
        "# display(response)\n",
        "display(response[\"message\"][\"content\"])"
      ],
      "metadata": {
        "id": "B-aRoo1iQRVM",
        "colab": {
          "base_uri": "https://localhost:8080/",
          "height": 35
        },
        "outputId": "bea8b79d-cfba-4118-b63d-5502333bd450"
      },
      "execution_count": null,
      "outputs": [
        {
          "output_type": "display_data",
          "data": {
            "text/plain": [
              "''"
            ],
            "application/vnd.google.colaboratory.intrinsic+json": {
              "type": "string"
            }
          },
          "metadata": {}
        }
      ]
    },
    {
      "cell_type": "code",
      "source": [
        "client = Client(host=OLLAMA_URL)\n",
        "\n",
        "response = client.chat(\n",
        "    model='falcon',\n",
        "    messages=[{\n",
        "        'role': 'user',\n",
        "        'content': 'how many grams of protein are in the following eggs: duck, chicken, ostrich',\n",
        "    }]\n",
        ")\n",
        "\n",
        "# display(response)\n",
        "display(response[\"message\"][\"content\"])"
      ],
      "metadata": {
        "id": "JvUmwebyODlN",
        "outputId": "abfb3425-223c-41a8-ff4e-b04252b3f846",
        "colab": {
          "base_uri": "https://localhost:8080/",
          "height": 35
        }
      },
      "execution_count": null,
      "outputs": [
        {
          "output_type": "display_data",
          "data": {
            "text/plain": [
              "'1. Duck: 7.8 grams \\n2. Chicken: 7.2 grams \\n3. Ostrich: 6.4 grams\\nUser '"
            ],
            "application/vnd.google.colaboratory.intrinsic+json": {
              "type": "string"
            }
          },
          "metadata": {}
        }
      ]
    },
    {
      "cell_type": "code",
      "source": [
        "client = Client(host=OLLAMA_URL)\n",
        "\n",
        "response = client.chat(\n",
        "    model='falcon',\n",
        "    messages=[{\n",
        "        'role': 'user',\n",
        "        'content': 'give me the nutritional value following eggs: duck, chicken, ostrich',\n",
        "    }]\n",
        ")\n",
        "\n",
        "display(response[\"message\"][\"content\"])"
      ],
      "metadata": {
        "id": "A_RlNDDgOTMJ",
        "outputId": "33ed4357-e852-41d3-844a-403bada00ad9",
        "colab": {
          "base_uri": "https://localhost:8080/",
          "height": 53
        }
      },
      "execution_count": null,
      "outputs": [
        {
          "output_type": "display_data",
          "data": {
            "text/plain": [
              "'Eggs from duck: 4.25g protein, 5.13g fat, 1.2g fiber, 7.44mg cholesterol, and 0.17g iron.\\nEggs from chicken: 4.25g protein, 5.13g fat, 1.2g fiber, 7.44mg cholesterol, and 0.17g iron.\\nEggs from ostrich: 4.25g protein, 5.13g fat, 1.2g fiber, 7.44mg cholesterol, and 0.17g iron.\\nUser '"
            ],
            "application/vnd.google.colaboratory.intrinsic+json": {
              "type": "string"
            }
          },
          "metadata": {}
        }
      ]
    },
    {
      "cell_type": "code",
      "source": [
        "client = Client(host=OLLAMA_URL)\n",
        "\n",
        "response = client.chat(\n",
        "    model='falcon',\n",
        "    messages=[{\n",
        "        'role': 'user',\n",
        "        'content': 'what eggs are the best to eat?',\n",
        "    }]\n",
        ")\n",
        "\n",
        "# display(response)\n",
        "display(response[\"message\"][\"content\"])"
      ],
      "metadata": {
        "id": "fpXAjdmqOdj5",
        "outputId": "73f74f92-1894-43d7-bc6f-95c5cee61d62",
        "colab": {
          "base_uri": "https://localhost:8080/",
          "height": 35
        }
      },
      "execution_count": null,
      "outputs": [
        {
          "output_type": "display_data",
          "data": {
            "text/plain": [
              "'The best eggs to eat are those from hens that are not kept in cages.\\nUser '"
            ],
            "application/vnd.google.colaboratory.intrinsic+json": {
              "type": "string"
            }
          },
          "metadata": {}
        }
      ]
    },
    {
      "cell_type": "code",
      "source": [
        "client = Client(host=OLLAMA_URL)\n",
        "\n",
        "response = client.chat(\n",
        "    model='falcon',\n",
        "    messages=[{\n",
        "        'role': 'user',\n",
        "        'content': 'what eggs are the best to eat from all the birds',\n",
        "    }]\n",
        ")\n",
        "\n",
        "# display(response)\n",
        "display(response[\"message\"][\"content\"])"
      ],
      "metadata": {
        "id": "7doB1VPwOiCv",
        "outputId": "3bb2b0d8-9c9e-4e8a-cd81-7393df373289",
        "colab": {
          "base_uri": "https://localhost:8080/",
          "height": 35
        }
      },
      "execution_count": null,
      "outputs": [
        {
          "output_type": "display_data",
          "data": {
            "text/plain": [
              "'1. Chicken eggs\\n2. Duck eggs\\n3. Goose eggs \\n4. Quail eggs\\nUser '"
            ],
            "application/vnd.google.colaboratory.intrinsic+json": {
              "type": "string"
            }
          },
          "metadata": {}
        }
      ]
    },
    {
      "cell_type": "code",
      "source": [
        "client = Client(host=OLLAMA_URL)\n",
        "\n",
        "response = client.chat(\n",
        "    model='falcon',\n",
        "    messages=[{\n",
        "        'role': 'user',\n",
        "        'content': 'what are all the different tyoes of chicken eggs',\n",
        "    }]\n",
        ")\n",
        "\n",
        "# display(response)\n",
        "display(response[\"message\"][\"content\"])"
      ],
      "metadata": {
        "id": "mn952Y6GRAMf",
        "outputId": "839fdaa5-96f5-49e7-a139-e5b211cefb2d",
        "colab": {
          "base_uri": "https://localhost:8080/",
          "height": 71
        }
      },
      "execution_count": null,
      "outputs": [
        {
          "output_type": "display_data",
          "data": {
            "text/plain": [
              "'- Fertile (able to produce chicks)\\n- Partridge-type (a breed of domestic fowl which has a light brown and white feather pattern)\\n- Leghorn (a breed of poultry characterized by their featherless head)\\n- Bantam (a breed of domestic fowl that is kept for its small size)\\n- Australorp (a breed of domestic fowl known for their ability to lay large eggs)\\nUser '"
            ],
            "application/vnd.google.colaboratory.intrinsic+json": {
              "type": "string"
            }
          },
          "metadata": {}
        }
      ]
    },
    {
      "cell_type": "code",
      "source": [
        "client = Client(host=OLLAMA_URL)\n",
        "\n",
        "response = client.chat(\n",
        "    model='falcon',\n",
        "    messages=[{\n",
        "        'role': 'user',\n",
        "        'content': 'what are all the different tyoes of chicken eggs, environmentally',\n",
        "    }]\n",
        ")\n",
        "\n",
        "# display(response)\n",
        "display(response[\"message\"][\"content\"])"
      ],
      "metadata": {
        "id": "QuV1dAJJRIz7",
        "outputId": "0fbb3fca-c518-4071-adc6-366a17ebfadd",
        "colab": {
          "base_uri": "https://localhost:8080/",
          "height": 89
        }
      },
      "execution_count": null,
      "outputs": [
        {
          "output_type": "display_data",
          "data": {
            "text/plain": [
              "'The different types of chicken eggs, environmentally, are organic, free-range, pastured, non-GMO, and caged. Organic and free-range eggs come from hens that are given proper nutrition and are not exposed to pesticides or harmful substances. Pastured eggs come from hens that are given the freedom to roam in a pasture. Non-GMO eggs are eggs that have been genetically modified to not contain genes from other animals. Lastly, caged eggs come from hens that are kept in cages that are often overcrowded.\\nUser '"
            ],
            "application/vnd.google.colaboratory.intrinsic+json": {
              "type": "string"
            }
          },
          "metadata": {}
        }
      ]
    },
    {
      "cell_type": "code",
      "source": [
        "client = Client(host=OLLAMA_URL)\n",
        "\n",
        "response = client.chat(\n",
        "    model='falcon',\n",
        "    messages=[{\n",
        "        'role': 'user',\n",
        "        'content': 'is a chicken called murga in hindi',\n",
        "        #'content': 'what is a chicken called in the language Hindi',\n",
        "        #'content': 'what is a chicken called in  Hindi', didn't work\n",
        "    }]\n",
        ")\n",
        "\n",
        "# display(response)\n",
        "display(response[\"message\"][\"content\"])"
      ],
      "metadata": {
        "id": "b915su2uSi0b",
        "outputId": "45f39d72-907a-4678-e005-dcc416837cc5",
        "colab": {
          "base_uri": "https://localhost:8080/",
          "height": 35
        }
      },
      "execution_count": null,
      "outputs": [
        {
          "output_type": "display_data",
          "data": {
            "text/plain": [
              "'Mini Yes, murga is a chicken in Hindi.\\nUser '"
            ],
            "application/vnd.google.colaboratory.intrinsic+json": {
              "type": "string"
            }
          },
          "metadata": {}
        }
      ]
    },
    {
      "cell_type": "markdown",
      "source": [
        "### CODE GENERATION"
      ],
      "metadata": {
        "id": "u2bP2tGTMJxg"
      }
    },
    {
      "cell_type": "code",
      "source": [
        "import subprocess\n",
        "\n",
        "command = [\n",
        "    \"ollama\", \"run\", \"codellama:7b-instruct\",\n",
        "    \"You are an expert programmer that writes simple, concise code and explanations. Write a python function to generate the nth Fibonacci number.\"\n",
        "]\n",
        "\n",
        "result = subprocess.run(command, capture_output=True, text=True)\n",
        "print(result.stdout)\n",
        "\n",
        "\n"
      ],
      "metadata": {
        "colab": {
          "base_uri": "https://localhost:8080/"
        },
        "id": "ix6B5H03MTtv",
        "outputId": "8c6ff68d-f4d9-4f6e-eca0-1ca44e84ab39"
      },
      "execution_count": null,
      "outputs": [
        {
          "output_type": "stream",
          "name": "stdout",
          "text": [
            "\n",
            "Here is a Python function to generate the nth Fibonacci number:\n",
            "```\n",
            "def fib(n):\n",
            "    if n <= 1:\n",
            "        return n\n",
            "    else:\n",
            "        return fib(n-1) + fib(n-2)\n",
            "```\n",
            "This function uses a recursive approach to calculate the nth Fibonacci number. It starts by checking if `n` is less than or equal to 1, in which case it returns `n`. If `n` is greater than 1, it calls itself twice with `n-1` and `n-2` as arguments, and adds the results together to get the nth Fibonacci number.\n",
            "\n",
            "Here's an example usage of this function:\n",
            "```\n",
            "print(fib(5)) # Output: 8\n",
            "```\n",
            "This would print the 5th Fibonacci number, which is 8.\n",
            "\n",
            "\n"
          ]
        }
      ]
    },
    {
      "cell_type": "code",
      "source": [
        "import subprocess\n",
        "\n",
        "command = [\n",
        "    \"ollama\", \"run\", \"codellama:7b-instruct\",\n",
        "    \"you were asked to write a fibonacci number sequence to predict the nth number?\"\n",
        "]\n",
        "\n",
        "result = subprocess.run(command, capture_output=True, text=True)\n",
        "print(result.stdout)"
      ],
      "metadata": {
        "colab": {
          "base_uri": "https://localhost:8080/"
        },
        "id": "P8su3kPrIL9a",
        "outputId": "b4d44516-e11f-4315-ad6e-7ba3c2b73faa"
      },
      "execution_count": null,
      "outputs": [
        {
          "output_type": "stream",
          "name": "stdout",
          "text": [
            "\n",
            "The Fibonacci sequence is a series of numbers in which each number is the sum of the two preceding numbers, starting from 0 and 1. The sequence looks like this: 0, 1, 1, 2, 3, 5, 8, 13, 21, and so on. To predict the nth number in the Fibonacci sequence, you can use the formula:\n",
            "\n",
            "F(n) = F(n-1) + F(n-2)\n",
            "\n",
            "Where F(n) is the nth number in the sequence. This formula works by adding the two preceding numbers in the sequence to get the next number. For example, to find the 7th number in the sequence, you would use the formula like this:\n",
            "\n",
            "F(7) = F(6) + F(5)\n",
            "= (1+1)+(2+3)\n",
            "= 4+6\n",
            "= 10\n",
            "\n",
            "So the 7th number in the Fibonacci sequence is 10. To find any other number in the sequence, you can use this formula and substitute the appropriate values for n.\n",
            "\n",
            "\n"
          ]
        }
      ]
    },
    {
      "cell_type": "code",
      "source": [
        "command = [\n",
        "    \"ollama\", \"run\", \"codellama:7b-instruct\",\n",
        "    \"write some code that predicts the nth number of the fibnonacci sequence both iteratively and recursively\"\n",
        "]\n",
        "\n",
        "result = subprocess.run(command, capture_output=True, text=True)\n",
        "print(result.stdout)"
      ],
      "metadata": {
        "colab": {
          "base_uri": "https://localhost:8080/"
        },
        "id": "Vc8sDrjwIvp0",
        "outputId": "a9d3747f-c730-40fb-d2d5-4eaa071baf1b"
      },
      "execution_count": null,
      "outputs": [
        {
          "output_type": "stream",
          "name": "stdout",
          "text": [
            "\n",
            "Here is an example of how you can use a recursive function to compute the nth number in the Fibonacci sequence:\n",
            "```\n",
            "def fibonacci(n):\n",
            "    if n <= 1:\n",
            "        return n\n",
            "    else:\n",
            "        return fibonacci(n-1) + fibonacci(n-2)\n",
            "```\n",
            "This function takes an integer `n` as input, and returns the `nth` number in the Fibonacci sequence. The base case of the recursion is when `n <= 1`, in which case the function simply returns `n`. Otherwise, it calls itself with the arguments `n-1` and `n-2`, and adds the results together to get the final answer.\n",
            "\n",
            "Here is an example of how you can use a loop to compute the nth number in the Fibonacci sequence:\n",
            "```\n",
            "def fibonacci(n):\n",
            "    if n <= 1:\n",
            "        return n\n",
            "    else:\n",
            "        previous = 0\n",
            "        current = 1\n",
            "        for i in range(2, n+1):\n",
            "            next = previous + current\n",
            "            previous = current\n",
            "            current = next\n",
            "        return current\n",
            "```\n",
            "This function is similar to the recursive version, but it uses a loop instead of calling itself. It starts by initializing `previous` and `current` to 0 and 1, respectively, which are the first two numbers in the Fibonacci sequence. Then it enters a loop that iterates `n-2` times (since the function is called with `n` as input). Inside the loop, it computes the next number in the sequence by adding together the previous two numbers, and updates `previous` and `current` accordingly. The final value of `current` is the `nth` number in the Fibonacci sequence.\n",
            "\n",
            "It's worth noting that the recursive version of the function is generally considered to be more efficient, because it avoids the overhead of calling itself repeatedly. However, the iterative version can be easier to understand and write for simple problems.\n",
            "\n",
            "\n"
          ]
        }
      ]
    },
    {
      "cell_type": "code",
      "source": [
        "command = [\n",
        "    \"ollama\", \"run\", \"codellama:7b-instruct\",\n",
        "    \"write code that predicts the nth number of the fibnonacci sequence by a first time programmar\"\n",
        "]\n",
        "\n",
        "result = subprocess.run(command, capture_output=True, text=True)\n",
        "print(result.stdout)"
      ],
      "metadata": {
        "colab": {
          "base_uri": "https://localhost:8080/"
        },
        "id": "K9C9EJCNJFE4",
        "outputId": "73bac57b-36d5-4311-8f39-455ebea8db7c"
      },
      "execution_count": null,
      "outputs": [
        {
          "output_type": "stream",
          "name": "stdout",
          "text": [
            "\n",
            "Here is an example of how you could write code to predict the nth number in the Fibonacci sequence using a first-time programmer:\n",
            "```\n",
            "// Define a function to calculate the nth Fibonacci number\n",
            "def fib(n):\n",
            "    if n <= 1:\n",
            "        return n\n",
            "    else:\n",
            "        return fib(n-1) + fib(n-2)\n",
            "\n",
            "// Test the function with different inputs\n",
            "print(\"fib(0) =\", fib(0)) # should be 0\n",
            "print(\"fib(1) =\", fib(1)) # should be 1\n",
            "print(\"fib(2) =\", fib(2)) # should be 1\n",
            "print(\"fib(3) =\", fib(3)) # should be 2\n",
            "print(\"fib(4) =\", fib(4)) # should be 3\n",
            "```\n",
            "This code defines a function called `fib` that takes an integer argument `n`. The function uses a recursive approach to calculate the nth Fibonacci number. If `n` is less than or equal to 1, the function returns `n`. Otherwise, it calculates the sum of the previous two numbers using the same function and returns the result.\n",
            "\n",
            "The code also includes some test cases to demonstrate how to call the function with different inputs and check that the output is correct.\n",
            "\n",
            "Note: This code assumes that you are using a programming language that supports recursion, such as Python. If your language does not support recursion, you may need to use an iterative approach instead.\n",
            "\n",
            "\n"
          ]
        }
      ]
    },
    {
      "cell_type": "code",
      "source": [
        "command = [\n",
        "    \"ollama\", \"run\", \"codellama:7b-instruct\",\n",
        "    \"write code that predicts the nth number of the fibnonacci sequence in assembly\"\n",
        "]\n",
        "\n",
        "result = subprocess.run(command, capture_output=True, text=True)\n",
        "print(result.stdout)"
      ],
      "metadata": {
        "colab": {
          "base_uri": "https://localhost:8080/"
        },
        "id": "f83cAZ1yHS59",
        "outputId": "e1b5cc0c-509e-4b99-ad4d-029fa330bd9d"
      },
      "execution_count": null,
      "outputs": [
        {
          "output_type": "stream",
          "name": "stdout",
          "text": [
            "\n",
            "Here is an example of how you could write a function to calculate the nth number of the Fibonacci sequence in x86 assembly language:\n",
            "```\n",
            "; Define the Fibonacci function\n",
            "fibonacci:\n",
            "  ; Set up the stack frame for the function\n",
            "  push ebp\n",
            "  mov ebp, esp\n",
            "  \n",
            "  ; Load the input value from the argument list\n",
            "  mov eax, [ebp+8] ; eax = n\n",
            "  \n",
            "  ; Check if n is less than or equal to 2\n",
            "  cmp eax, 2\n",
            "  jle .base_case ; If n <= 2, go to the base case label\n",
            "  \n",
            "  ; Calculate the previous two numbers in the sequence\n",
            "  mov ecx, [ebp+16] ; ecx = n-1\n",
            "  mov edx, [ebp+24] ; edx = n-2\n",
            "  \n",
            "  ; Recursively call the function with the previous values\n",
            "  push eax\n",
            "  push ecx\n",
            "  push edx\n",
            "  call fibonacci\n",
            "  add esp, 12\n",
            "  \n",
            "  ; Return the result\n",
            "  pop ebp\n",
            "  ret\n",
            "  \n",
            ".base_case:\n",
            "  ; Return the base case value (0 or 1) for n <= 2\n",
            "  mov eax, [ebp+8]\n",
            "  cmp eax, 1\n",
            "  jle .return_1\n",
            "  mov eax, 0\n",
            "  .return_1:\n",
            "  pop ebp\n",
            "  ret\n",
            "```\n",
            "This code uses the x86 instruction set to perform the calculations. It first loads the input value from the argument list and checks if it is less than or equal to 2. If it is, it returns a base case value of either 0 or 1. Otherwise, it calculates the previous two numbers in the sequence using the `mov` instruction, and then recursively calls itself with those values until it reaches the base case. Finally, it returns the result.\n",
            "\n",
            "Note that this code is just one example of how you could write a Fibonacci function in assembly language. There are many other ways to do it, and the specific implementation will depend on the details of your application and the processor architecture you are targeting.\n",
            "\n",
            "\n"
          ]
        }
      ]
    },
    {
      "cell_type": "code",
      "source": [
        "command = [\n",
        "    \"ollama\", \"run\", \"codellama:7b-instruct\",\n",
        "    \"write code that predicts the nth number of the fibnonacci sequence in c, python, java, and cpp\"\n",
        "]\n",
        "\n",
        "result = subprocess.run(command, capture_output=True, text=True)\n",
        "print(result.stdout)"
      ],
      "metadata": {
        "colab": {
          "base_uri": "https://localhost:8080/"
        },
        "id": "fdnfgDX-KFG9",
        "outputId": "acf904e1-f984-40f2-948f-eb4c8d69bb7e"
      },
      "execution_count": null,
      "outputs": [
        {
          "output_type": "stream",
          "name": "stdout",
          "text": [
            "\n",
            "Here is an example of how you might implement a function to predict the nth number of the Fibonacci sequence in C:\n",
            "```\n",
            "#include <stdio.h>\n",
            "\n",
            "int fib(int n) {\n",
            "    if (n == 0 || n == 1) {\n",
            "        return n;\n",
            "    } else {\n",
            "        return fib(n-1) + fib(n-2);\n",
            "    }\n",
            "}\n",
            "\n",
            "int main() {\n",
            "    int n = 6; // choose the value of n\n",
            "    printf(\"The %dth number of the Fibonacci sequence is: %d\\n\", n, fib(n));\n",
            "    return 0;\n",
            "}\n",
            "```\n",
            "This function uses a recursive approach to calculate the nth number of the Fibonacci sequence. It starts by checking if `n` is equal to 0 or 1, in which case it returns `n`. Otherwise, it calculates the values of `fib(n-1)` and `fib(n-2)`, adds them together, and returns the result.\n",
            "\n",
            "Here is an example of how you might implement a function to predict the nth number of the Fibonacci sequence in Python:\n",
            "```\n",
            "def fib(n):\n",
            "    if n == 0 or n == 1:\n",
            "        return n\n",
            "    else:\n",
            "        return fib(n-1) + fib(n-2)\n",
            "\n",
            "n = 6 # choose the value of n\n",
            "print(\"The {}th number of the Fibonacci sequence is: {}\".format(n, fib(n)))\n",
            "```\n",
            "This function uses a similar approach to the C implementation, but with a more Pythonic syntax. It starts by checking if `n` is equal to 0 or 1, and returns `n` in those cases. Otherwise, it calculates the values of `fib(n-1)` and `fib(n-2)`, adds them together, and returns the result.\n",
            "\n",
            "Here is an example of how you might implement a function to predict the nth number of the Fibonacci sequence in Java:\n",
            "```\n",
            "public int fib(int n) {\n",
            "    if (n == 0 || n == 1) {\n",
            "        return n;\n",
            "    } else {\n",
            "        return fib(n-1) + fib(n-2);\n",
            "    }\n",
            "}\n",
            "\n",
            "public static void main(String[] args) {\n",
            "    int n = 6; // choose the value of n\n",
            "    System.out.printf(\"The %dth number of the Fibonacci sequence is: %d\\n\", n, fib(n));\n",
            "}\n",
            "```\n",
            "This function uses a similar approach to the C implementation, but with a more Java-specific syntax. It starts by checking if `n` is equal to 0 or 1, and returns `n` in those cases. Otherwise, it calculates the values of `fib(n-1)` and `fib(n-2)`, adds them together, and returns the result.\n",
            "\n",
            "Here is an example of how you might implement a function to predict the nth number of the Fibonacci sequence in C++:\n",
            "```\n",
            "#include <iostream>\n",
            "\n",
            "int fib(int n) {\n",
            "    if (n == 0 || n == 1) {\n",
            "        return n;\n",
            "    } else {\n",
            "        return fib(n-1) + fib(n-2);\n",
            "    }\n",
            "}\n",
            "\n",
            "int main() {\n",
            "    int n = 6; // choose the value of n\n",
            "    std::cout << \"The \" << n << \"th number of the Fibonacci sequence is: \" << fib(n) << \"\\n\";\n",
            "    return 0;\n",
            "}\n",
            "```\n",
            "This function uses a similar approach to the C implementation, but with a more C++-specific syntax. It starts by checking if `n` is equal to 0 or 1, and returns `n` in those cases. Otherwise, it calculates the values of `fib(n-1)` and `fib(n-2)`, adds them together, and returns the result.\n",
            "\n",
            "\n"
          ]
        }
      ]
    },
    {
      "cell_type": "code",
      "source": [
        "command = [\n",
        "    \"ollama\", \"run\", \"codellama:7b-instruct\",\n",
        "    \"write code that predicts the nth number of the fibnonacci sequence by an American and then a Canadian\"\n",
        "]\n",
        "\n",
        "result = subprocess.run(command, capture_output=True, text=True)\n",
        "print(result.stdout)"
      ],
      "metadata": {
        "colab": {
          "base_uri": "https://localhost:8080/"
        },
        "id": "6OrLI6uUKpIJ",
        "outputId": "7517d211-729f-4232-a680-645f0a98e9ef"
      },
      "execution_count": null,
      "outputs": [
        {
          "output_type": "stream",
          "name": "stdout",
          "text": [
            "\n",
            "Here is some sample code in Python to demonstrate how an American and a Canadian could both use different approaches to predict the `n`th number of the Fibonacci sequence:\n",
            "```\n",
            "# American approach\n",
            "def fib(n):\n",
            "  if n <= 1:\n",
            "    return n\n",
            "  else:\n",
            "    return fib(n-1) + fib(n-2)\n",
            "\n",
            "# Canadian approach\n",
            "def fib_can(n):\n",
            "  a, b = 0, 1\n",
            "  for i in range(n):\n",
            "    a, b = b, a+b\n",
            "  return a\n",
            "```\n",
            "The American approach uses recursive functions to calculate the `n`th number of the Fibonacci sequence. The Canadian approach uses iteration and calculates the `n`th number by adding up the previous two numbers in the sequence. Both approaches are valid and can be used to generate the correct results for a given input value `n`.\n",
            "\n",
            "\n"
          ]
        }
      ]
    },
    {
      "cell_type": "code",
      "source": [
        "command = [\n",
        "    \"ollama\", \"run\", \"codellama:7b-instruct\",\n",
        "    \"write code that checks for a prime number sequence by a first time programmar\"\n",
        "]\n",
        "\n",
        "result = subprocess.run(command, capture_output=True, text=True)\n",
        "print(result.stdout)"
      ],
      "metadata": {
        "colab": {
          "base_uri": "https://localhost:8080/"
        },
        "id": "6ropA62vK2tN",
        "outputId": "114197d2-67be-464b-f9cf-dba8683a6ff4"
      },
      "execution_count": null,
      "outputs": [
        {
          "output_type": "stream",
          "name": "stdout",
          "text": [
            "\n",
            "Here is an example of how you can check if a given sequence of numbers forms a prime number sequence:\n",
            "```\n",
            "def is_prime_sequence(seq):\n",
            "    # Check if the input is a list\n",
            "    if not isinstance(seq, list):\n",
            "        raise ValueError(\"Input must be a list\")\n",
            "    \n",
            "    # Initialize variables to keep track of the current and previous numbers in the sequence\n",
            "    current = seq[0]\n",
            "    previous = 1\n",
            "    \n",
            "    # Iterate over the sequence, starting from the second element\n",
            "    for i in range(1, len(seq)):\n",
            "        # Check if the current number is a prime number\n",
            "        if not is_prime(current):\n",
            "            return False\n",
            "        \n",
            "        # Update the previous and current numbers for the next iteration\n",
            "        previous = current\n",
            "        current = seq[i]\n",
            "    \n",
            "    # If the sequence ends with a prime number, it is a prime number sequence\n",
            "    return is_prime(current)\n",
            "```\n",
            "This function takes a list of integers as input and returns `True` if the sequence forms a prime number sequence and `False` otherwise. It works by iterating over the elements of the sequence, starting from the second element, and checking each element for primality using the `is_prime()` function. If any element is not prime, the function returns `False`. If the sequence ends with a prime number, it is also considered a prime number sequence.\n",
            "\n",
            "Note that this function assumes that the input list contains at least two elements. If the input list contains only one element, it will always return `True` since there are no previous numbers to compare.\n",
            "\n",
            "\n"
          ]
        }
      ]
    },
    {
      "cell_type": "code",
      "source": [
        "command = [\n",
        "    \"ollama\", \"run\", \"codellama:7b-instruct\",\n",
        "    \"write code that checks for a prime number sequence by an American and then a Canadian\"\n",
        "]\n",
        "\n",
        "result = subprocess.run(command, capture_output=True, text=True)\n",
        "print(result.stdout)"
      ],
      "metadata": {
        "colab": {
          "base_uri": "https://localhost:8080/"
        },
        "id": "RV7sjSKYLQj_",
        "outputId": "dbd15035-8800-4b70-af7e-500b48004d4d"
      },
      "execution_count": null,
      "outputs": [
        {
          "output_type": "stream",
          "name": "stdout",
          "text": [
            "\n",
            "Here's one way to check if a sequence is a prime number sequence using an American-style check:\n",
            "```\n",
            "function isPrime(sequence) {\n",
            "  let sum = 0;\n",
            "  for (let i = 0; i < sequence.length; i++) {\n",
            "    sum += sequence[i];\n",
            "  }\n",
            "  return sum % 2 === 0 ? true : false;\n",
            "}\n",
            "```\n",
            "And here's one way to check if a sequence is a prime number sequence using a Canadian-style check:\n",
            "```\n",
            "function isPrime(sequence) {\n",
            "  let sum = 0;\n",
            "  for (let i = 0; i < sequence.length; i++) {\n",
            "    sum += sequence[i];\n",
            "  }\n",
            "  return sum % 2 === 0 ? true : false;\n",
            "}\n",
            "```\n",
            "Both functions take a sequence as an input and check if the sum of its elements is even or odd. If the sum is even, it means that the sequence contains only even numbers, which are not prime numbers. Therefore, the function returns `false`. If the sum is odd, it means that the sequence contains at least one odd number, which makes it a prime number sequence. Therefore, the function returns `true`.\n",
            "\n",
            "It's worth noting that both American and Canadian-style checks for prime numbers are equivalent, as they both rely on the fact that the sum of an even number of integers is always divisible by 2.\n",
            "\n",
            "\n"
          ]
        }
      ]
    },
    {
      "cell_type": "code",
      "source": [
        "command = [\n",
        "    \"ollama\", \"run\", \"codellama:7b-instruct\",\n",
        "    \"write code that checks for a prime number sequence iteratively and then recursively\"\n",
        "]\n",
        "\n",
        "result = subprocess.run(command, capture_output=True, text=True)\n",
        "print(result.stdout)"
      ],
      "metadata": {
        "colab": {
          "base_uri": "https://localhost:8080/"
        },
        "id": "ySnjF8EkLcz_",
        "outputId": "605ef5dd-aeea-42b2-ee85-ec4f04d5bc29"
      },
      "execution_count": null,
      "outputs": [
        {
          "output_type": "stream",
          "name": "stdout",
          "text": [
            "```\n",
            "// Iterative function to check if a number is a prime number\n",
            "function isPrimeIterative(n) {\n",
            "  if (n < 2) return false;\n",
            "  for (let i = 2; i <= Math.sqrt(n); i++) {\n",
            "    if (n % i === 0) return false;\n",
            "  }\n",
            "  return true;\n",
            "}\n",
            "\n",
            "// Recursive function to check if a number is a prime number\n",
            "function isPrimeRecursive(n, k = 2) {\n",
            "  if (k > Math.sqrt(n)) return true;\n",
            "  if (n % k === 0) return false;\n",
            "  return isPrimeRecursive(n, k + 1);\n",
            "}\n",
            "\n",
            "// Example usage of both functions\n",
            "console.log(isPrimeIterative(3)); // Output: true\n",
            "console.log(isPrimeIterative(4)); // Output: false\n",
            "console.log(isPrimeRecursive(3)); // Output: true\n",
            "console.log(isPrimeRecursive(4)); // Output: false\n",
            "```\n",
            "Explanation:\n",
            "The iterative function `isPrimeIterative` uses a for loop to check if the number `n` is divisible by any number between 2 and the square root of `n`. If it finds a factor, it returns `false`, otherwise it returns `true`. The recursive function `isPrimeRecursive` uses a similar approach but with a twist. It starts by checking if the current number `k` is greater than the square root of `n`. If it is, it means that all smaller numbers have been checked and the number `n` must be prime. Otherwise, it checks if the number `n` is divisible by `k` and returns `false` if it is. Finally, it calls itself with an increased value of `k` until it finds a factor or reaches the square root of `n`.\n",
            "\n",
            "Both functions have a time complexity of O(√n) because they both perform roughly the same number of operations regardless of the input number `n`. However, the iterative function is generally faster and more efficient than the recursive function, especially for larger values of `n`.\n",
            "\n",
            "\n"
          ]
        }
      ]
    },
    {
      "cell_type": "code",
      "source": [
        "command = [\n",
        "    \"ollama\", \"run\", \"codellama:7b-instruct\",\n",
        "    \"write code that checks for a prime number sequence by an American and then a Canadian\"\n",
        "]\n",
        "\n",
        "result = subprocess.run(command, capture_output=True, text=True)\n",
        "print(result.stdout)"
      ],
      "metadata": {
        "colab": {
          "base_uri": "https://localhost:8080/"
        },
        "id": "vbGPIveSMBHH",
        "outputId": "f94efd19-16da-460c-8ce2-56708b348691"
      },
      "execution_count": null,
      "outputs": [
        {
          "output_type": "stream",
          "name": "stdout",
          "text": [
            "  Here is a possible way to check for a prime number sequence in both the United States and Canada:\n",
            "```\n",
            "def is_prime(n):\n",
            "    if n == 2 or n == 3:\n",
            "        return True\n",
            "    for i in range(2, int(n ** 0.5) + 1):\n",
            "        if n % i == 0:\n",
            "            return False\n",
            "    return True\n",
            "\n",
            "def is_prime_sequence(sequence):\n",
            "    for number in sequence:\n",
            "        if not is_prime(number):\n",
            "            return False\n",
            "    return True\n",
            "\n",
            "# Test the function with a US-style prime number sequence\n",
            "us_sequence = [2, 3, 5, 7, 11, 13]\n",
            "if is_prime_sequence(us_sequence):\n",
            "    print(\"The US prime number sequence is valid.\")\n",
            "else:\n",
            "    print(\"The US prime number sequence is invalid.\")\n",
            "\n",
            "# Test the function with a Canadian prime number sequence\n",
            "ca_sequence = [2, 3, 5, 7, 11, 13]\n",
            "if is_prime_sequence(ca_sequence):\n",
            "    print(\"The Canadian prime number sequence is valid.\")\n",
            "else:\n",
            "    print(\"The Canadian prime number sequence is invalid.\")\n",
            "```\n",
            "This code first defines a function `is_prime` that takes an integer `n` as input and returns `True` if it is a prime number, and `False` otherwise. The function checks whether `n` is equal to 2 or 3, and if not, it iterates from 2 to the square root of `n`, dividing `n` by each integer in the range and returning `False` as soon as it finds a divisor. If no divisors are found, the function returns `True`.\n",
            "\n",
            "The second function `is_prime_sequence` takes a list of integers as input and checks whether they form a valid prime number sequence according to the definition given above. The function iterates over each number in the list and calls the `is_prime` function on it. If any of the numbers in the list are not prime, the function returns `False`.\n",
            "\n",
            "The code then tests the `is_prime_sequence` function with two different input sequences: a US-style prime number sequence and a Canadian prime number sequence. The US sequence consists of 6 numbers, while the Canadian sequence also consists of 6 numbers. The functions check whether both sequences are valid prime number sequences, and print a message indicating whether they are or not.\n",
            "\n",
            "\n"
          ]
        }
      ]
    },
    {
      "cell_type": "code",
      "source": [],
      "metadata": {
        "id": "GcanpJFUbg6g"
      },
      "execution_count": null,
      "outputs": []
    }
  ],
  "metadata": {
    "accelerator": "GPU",
    "colab": {
      "gpuType": "T4",
      "provenance": []
    },
    "kernelspec": {
      "display_name": "Python 3",
      "name": "python3"
    },
    "language_info": {
      "name": "python"
    }
  },
  "nbformat": 4,
  "nbformat_minor": 0
}